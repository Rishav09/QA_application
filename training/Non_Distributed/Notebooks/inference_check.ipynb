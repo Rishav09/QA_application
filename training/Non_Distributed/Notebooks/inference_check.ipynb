{
 "metadata": {
  "language_info": {
   "codemirror_mode": {
    "name": "ipython",
    "version": 3
   },
   "file_extension": ".py",
   "mimetype": "text/x-python",
   "name": "python",
   "nbconvert_exporter": "python",
   "pygments_lexer": "ipython3",
   "version": "3.7.6"
  },
  "orig_nbformat": 4,
  "kernelspec": {
   "name": "python3",
   "display_name": "Python 3.7.6 64-bit ('opt': conda)"
  },
  "interpreter": {
   "hash": "c172d229f9980eb2e9bbd8bad79123e0519bc8b7784791961971fb2eb2efb7c2"
  }
 },
 "nbformat": 4,
 "nbformat_minor": 2,
 "cells": [
  {
   "cell_type": "code",
   "execution_count": 1,
   "metadata": {},
   "outputs": [],
   "source": [
    "import pandas as pd"
   ]
  },
  {
   "cell_type": "code",
   "execution_count": 6,
   "metadata": {},
   "outputs": [],
   "source": [
    "test_dir = '/Users/swastik/ophthalmology/Project_Quality_Assurance/Final_QA_FDA/data_models/chocolate_feather/df_test.csv' # noqa\n",
    "valid_dir = '/Users/swastik/ophthalmology/Project_Quality_Assurance/Final_QA_FDA/data_models/chocolate_feather/df_val.csv' # noqa\n",
    "train_dir = '/Users/swastik/ophthalmology/Project_Quality_Assurance/Final_QA_FDA/data_models/chocolate_feather/df_train.csv'"
   ]
  },
  {
   "cell_type": "code",
   "execution_count": 7,
   "metadata": {},
   "outputs": [
    {
     "output_type": "execute_result",
     "data": {
      "text/plain": [
       "                       img  Excellent  Good  Adequate  Insuff_for_full  \\\n",
       "0         007-5471-300.JPG          1     0         0                0   \n",
       "1       290004_1951013.JPG          0     0         0                1   \n",
       "2       287228_1929096.JPG          1     0         0                0   \n",
       "3      538373306840_57.JPG          0     1         0                0   \n",
       "4       303569_2057302.JPG          0     0         0                1   \n",
       "..                     ...        ...   ...       ...              ...   \n",
       "759     656995_8301336.JPG          0     0         0                1   \n",
       "760     231584_1523079.JPG          0     0         1                0   \n",
       "761  20170427182819247.JPG          1     0         0                0   \n",
       "762     329907_2264020.JPG          0     1         0                0   \n",
       "763     255224_1691019.JPG          0     0         1                0   \n",
       "\n",
       "     Insuff_for_any  labels  Redfree  other  \n",
       "0                 0       0      NaN    NaN  \n",
       "1                 0       2      NaN    NaN  \n",
       "2                 0       0      NaN    NaN  \n",
       "3                 0       1      0.0    0.0  \n",
       "4                 0       2      NaN    NaN  \n",
       "..              ...     ...      ...    ...  \n",
       "759               0       2      NaN    NaN  \n",
       "760               0       1      NaN    NaN  \n",
       "761               0       0      NaN    NaN  \n",
       "762               0       1      NaN    NaN  \n",
       "763               0       1      NaN    NaN  \n",
       "\n",
       "[764 rows x 9 columns]"
      ],
      "text/html": "<div>\n<style scoped>\n    .dataframe tbody tr th:only-of-type {\n        vertical-align: middle;\n    }\n\n    .dataframe tbody tr th {\n        vertical-align: top;\n    }\n\n    .dataframe thead th {\n        text-align: right;\n    }\n</style>\n<table border=\"1\" class=\"dataframe\">\n  <thead>\n    <tr style=\"text-align: right;\">\n      <th></th>\n      <th>img</th>\n      <th>Excellent</th>\n      <th>Good</th>\n      <th>Adequate</th>\n      <th>Insuff_for_full</th>\n      <th>Insuff_for_any</th>\n      <th>labels</th>\n      <th>Redfree</th>\n      <th>other</th>\n    </tr>\n  </thead>\n  <tbody>\n    <tr>\n      <th>0</th>\n      <td>007-5471-300.JPG</td>\n      <td>1</td>\n      <td>0</td>\n      <td>0</td>\n      <td>0</td>\n      <td>0</td>\n      <td>0</td>\n      <td>NaN</td>\n      <td>NaN</td>\n    </tr>\n    <tr>\n      <th>1</th>\n      <td>290004_1951013.JPG</td>\n      <td>0</td>\n      <td>0</td>\n      <td>0</td>\n      <td>1</td>\n      <td>0</td>\n      <td>2</td>\n      <td>NaN</td>\n      <td>NaN</td>\n    </tr>\n    <tr>\n      <th>2</th>\n      <td>287228_1929096.JPG</td>\n      <td>1</td>\n      <td>0</td>\n      <td>0</td>\n      <td>0</td>\n      <td>0</td>\n      <td>0</td>\n      <td>NaN</td>\n      <td>NaN</td>\n    </tr>\n    <tr>\n      <th>3</th>\n      <td>538373306840_57.JPG</td>\n      <td>0</td>\n      <td>1</td>\n      <td>0</td>\n      <td>0</td>\n      <td>0</td>\n      <td>1</td>\n      <td>0.0</td>\n      <td>0.0</td>\n    </tr>\n    <tr>\n      <th>4</th>\n      <td>303569_2057302.JPG</td>\n      <td>0</td>\n      <td>0</td>\n      <td>0</td>\n      <td>1</td>\n      <td>0</td>\n      <td>2</td>\n      <td>NaN</td>\n      <td>NaN</td>\n    </tr>\n    <tr>\n      <th>...</th>\n      <td>...</td>\n      <td>...</td>\n      <td>...</td>\n      <td>...</td>\n      <td>...</td>\n      <td>...</td>\n      <td>...</td>\n      <td>...</td>\n      <td>...</td>\n    </tr>\n    <tr>\n      <th>759</th>\n      <td>656995_8301336.JPG</td>\n      <td>0</td>\n      <td>0</td>\n      <td>0</td>\n      <td>1</td>\n      <td>0</td>\n      <td>2</td>\n      <td>NaN</td>\n      <td>NaN</td>\n    </tr>\n    <tr>\n      <th>760</th>\n      <td>231584_1523079.JPG</td>\n      <td>0</td>\n      <td>0</td>\n      <td>1</td>\n      <td>0</td>\n      <td>0</td>\n      <td>1</td>\n      <td>NaN</td>\n      <td>NaN</td>\n    </tr>\n    <tr>\n      <th>761</th>\n      <td>20170427182819247.JPG</td>\n      <td>1</td>\n      <td>0</td>\n      <td>0</td>\n      <td>0</td>\n      <td>0</td>\n      <td>0</td>\n      <td>NaN</td>\n      <td>NaN</td>\n    </tr>\n    <tr>\n      <th>762</th>\n      <td>329907_2264020.JPG</td>\n      <td>0</td>\n      <td>1</td>\n      <td>0</td>\n      <td>0</td>\n      <td>0</td>\n      <td>1</td>\n      <td>NaN</td>\n      <td>NaN</td>\n    </tr>\n    <tr>\n      <th>763</th>\n      <td>255224_1691019.JPG</td>\n      <td>0</td>\n      <td>0</td>\n      <td>1</td>\n      <td>0</td>\n      <td>0</td>\n      <td>1</td>\n      <td>NaN</td>\n      <td>NaN</td>\n    </tr>\n  </tbody>\n</table>\n<p>764 rows × 9 columns</p>\n</div>"
     },
     "metadata": {},
     "execution_count": 7
    }
   ],
   "source": [
    "df_test = pd.read_csv(test_dir).iloc[:, 2:]\n",
    "df_test "
   ]
  },
  {
   "cell_type": "code",
   "execution_count": 8,
   "metadata": {},
   "outputs": [
    {
     "output_type": "execute_result",
     "data": {
      "text/plain": [
       "                       img  Excellent  Good  Adequate  Insuff_for_full  \\\n",
       "0    20170120223854648.JPG          1     0         0                0   \n",
       "1       299458_2024651.JPG          0     0         0                1   \n",
       "2       301839_2043723.JPG          1     0         0                0   \n",
       "3       294432_1985275.JPG          1     0         0                0   \n",
       "4       272650_1820786.JPG          0     0         0                1   \n",
       "..                     ...        ...   ...       ...              ...   \n",
       "758     324765_2224415.JPG          0     0         0                1   \n",
       "759       007-8834-605.JPG          0     0         0                0   \n",
       "760  20170430193513456.JPG          0     1         0                0   \n",
       "761     257895_1711283.JPG          0     1         0                0   \n",
       "762     277006_1854228.JPG          0     0         1                0   \n",
       "\n",
       "     Insuff_for_any  labels  Redfree  other  \n",
       "0                 0       0      NaN    NaN  \n",
       "1                 0       2      NaN    NaN  \n",
       "2                 0       0      NaN    NaN  \n",
       "3                 0       0      NaN    NaN  \n",
       "4                 0       2      NaN    NaN  \n",
       "..              ...     ...      ...    ...  \n",
       "758               0       2      NaN    NaN  \n",
       "759               1       2      NaN    NaN  \n",
       "760               0       1      NaN    NaN  \n",
       "761               0       1      NaN    NaN  \n",
       "762               0       1      NaN    NaN  \n",
       "\n",
       "[763 rows x 9 columns]"
      ],
      "text/html": "<div>\n<style scoped>\n    .dataframe tbody tr th:only-of-type {\n        vertical-align: middle;\n    }\n\n    .dataframe tbody tr th {\n        vertical-align: top;\n    }\n\n    .dataframe thead th {\n        text-align: right;\n    }\n</style>\n<table border=\"1\" class=\"dataframe\">\n  <thead>\n    <tr style=\"text-align: right;\">\n      <th></th>\n      <th>img</th>\n      <th>Excellent</th>\n      <th>Good</th>\n      <th>Adequate</th>\n      <th>Insuff_for_full</th>\n      <th>Insuff_for_any</th>\n      <th>labels</th>\n      <th>Redfree</th>\n      <th>other</th>\n    </tr>\n  </thead>\n  <tbody>\n    <tr>\n      <th>0</th>\n      <td>20170120223854648.JPG</td>\n      <td>1</td>\n      <td>0</td>\n      <td>0</td>\n      <td>0</td>\n      <td>0</td>\n      <td>0</td>\n      <td>NaN</td>\n      <td>NaN</td>\n    </tr>\n    <tr>\n      <th>1</th>\n      <td>299458_2024651.JPG</td>\n      <td>0</td>\n      <td>0</td>\n      <td>0</td>\n      <td>1</td>\n      <td>0</td>\n      <td>2</td>\n      <td>NaN</td>\n      <td>NaN</td>\n    </tr>\n    <tr>\n      <th>2</th>\n      <td>301839_2043723.JPG</td>\n      <td>1</td>\n      <td>0</td>\n      <td>0</td>\n      <td>0</td>\n      <td>0</td>\n      <td>0</td>\n      <td>NaN</td>\n      <td>NaN</td>\n    </tr>\n    <tr>\n      <th>3</th>\n      <td>294432_1985275.JPG</td>\n      <td>1</td>\n      <td>0</td>\n      <td>0</td>\n      <td>0</td>\n      <td>0</td>\n      <td>0</td>\n      <td>NaN</td>\n      <td>NaN</td>\n    </tr>\n    <tr>\n      <th>4</th>\n      <td>272650_1820786.JPG</td>\n      <td>0</td>\n      <td>0</td>\n      <td>0</td>\n      <td>1</td>\n      <td>0</td>\n      <td>2</td>\n      <td>NaN</td>\n      <td>NaN</td>\n    </tr>\n    <tr>\n      <th>...</th>\n      <td>...</td>\n      <td>...</td>\n      <td>...</td>\n      <td>...</td>\n      <td>...</td>\n      <td>...</td>\n      <td>...</td>\n      <td>...</td>\n      <td>...</td>\n    </tr>\n    <tr>\n      <th>758</th>\n      <td>324765_2224415.JPG</td>\n      <td>0</td>\n      <td>0</td>\n      <td>0</td>\n      <td>1</td>\n      <td>0</td>\n      <td>2</td>\n      <td>NaN</td>\n      <td>NaN</td>\n    </tr>\n    <tr>\n      <th>759</th>\n      <td>007-8834-605.JPG</td>\n      <td>0</td>\n      <td>0</td>\n      <td>0</td>\n      <td>0</td>\n      <td>1</td>\n      <td>2</td>\n      <td>NaN</td>\n      <td>NaN</td>\n    </tr>\n    <tr>\n      <th>760</th>\n      <td>20170430193513456.JPG</td>\n      <td>0</td>\n      <td>1</td>\n      <td>0</td>\n      <td>0</td>\n      <td>0</td>\n      <td>1</td>\n      <td>NaN</td>\n      <td>NaN</td>\n    </tr>\n    <tr>\n      <th>761</th>\n      <td>257895_1711283.JPG</td>\n      <td>0</td>\n      <td>1</td>\n      <td>0</td>\n      <td>0</td>\n      <td>0</td>\n      <td>1</td>\n      <td>NaN</td>\n      <td>NaN</td>\n    </tr>\n    <tr>\n      <th>762</th>\n      <td>277006_1854228.JPG</td>\n      <td>0</td>\n      <td>0</td>\n      <td>1</td>\n      <td>0</td>\n      <td>0</td>\n      <td>1</td>\n      <td>NaN</td>\n      <td>NaN</td>\n    </tr>\n  </tbody>\n</table>\n<p>763 rows × 9 columns</p>\n</div>"
     },
     "metadata": {},
     "execution_count": 8
    }
   ],
   "source": [
    "df_valid = pd.read_csv(valid_dir).iloc[:, 2:]\n",
    "df_valid"
   ]
  },
  {
   "cell_type": "code",
   "execution_count": 9,
   "metadata": {},
   "outputs": [
    {
     "output_type": "execute_result",
     "data": {
      "text/plain": [
       "                      img  Excellent  Good  Adequate  Insuff_for_full  \\\n",
       "0      207521_1350712.JPG          0     1         0                0   \n",
       "1      207521_1350713.JPG          0     1         0                0   \n",
       "2      207521_1350715.JPG          1     0         0                0   \n",
       "3      207521_1350716.JPG          0     1         0                0   \n",
       "4      207521_1350717.JPG          0     1         0                0   \n",
       "...                   ...        ...   ...       ...              ...   \n",
       "13753    007-3525-200.JPG          0     1         0                0   \n",
       "13754    007-3526-200.JPG          0     1         0                0   \n",
       "13755    007-3527-200.JPG          0     1         0                0   \n",
       "13756    007-3651-200.JPG          0     0         0                1   \n",
       "13757    007-3653-200.JPG          0     0         1                0   \n",
       "\n",
       "       Insuff_for_any  labels  Redfree  other  \n",
       "0                   0       1      NaN    NaN  \n",
       "1                   0       1      NaN    NaN  \n",
       "2                   0       0      NaN    NaN  \n",
       "3                   0       1      NaN    NaN  \n",
       "4                   0       1      NaN    NaN  \n",
       "...               ...     ...      ...    ...  \n",
       "13753               0       1      NaN    NaN  \n",
       "13754               0       1      NaN    NaN  \n",
       "13755               0       1      NaN    NaN  \n",
       "13756               0       2      NaN    NaN  \n",
       "13757               0       1      NaN    NaN  \n",
       "\n",
       "[13758 rows x 9 columns]"
      ],
      "text/html": "<div>\n<style scoped>\n    .dataframe tbody tr th:only-of-type {\n        vertical-align: middle;\n    }\n\n    .dataframe tbody tr th {\n        vertical-align: top;\n    }\n\n    .dataframe thead th {\n        text-align: right;\n    }\n</style>\n<table border=\"1\" class=\"dataframe\">\n  <thead>\n    <tr style=\"text-align: right;\">\n      <th></th>\n      <th>img</th>\n      <th>Excellent</th>\n      <th>Good</th>\n      <th>Adequate</th>\n      <th>Insuff_for_full</th>\n      <th>Insuff_for_any</th>\n      <th>labels</th>\n      <th>Redfree</th>\n      <th>other</th>\n    </tr>\n  </thead>\n  <tbody>\n    <tr>\n      <th>0</th>\n      <td>207521_1350712.JPG</td>\n      <td>0</td>\n      <td>1</td>\n      <td>0</td>\n      <td>0</td>\n      <td>0</td>\n      <td>1</td>\n      <td>NaN</td>\n      <td>NaN</td>\n    </tr>\n    <tr>\n      <th>1</th>\n      <td>207521_1350713.JPG</td>\n      <td>0</td>\n      <td>1</td>\n      <td>0</td>\n      <td>0</td>\n      <td>0</td>\n      <td>1</td>\n      <td>NaN</td>\n      <td>NaN</td>\n    </tr>\n    <tr>\n      <th>2</th>\n      <td>207521_1350715.JPG</td>\n      <td>1</td>\n      <td>0</td>\n      <td>0</td>\n      <td>0</td>\n      <td>0</td>\n      <td>0</td>\n      <td>NaN</td>\n      <td>NaN</td>\n    </tr>\n    <tr>\n      <th>3</th>\n      <td>207521_1350716.JPG</td>\n      <td>0</td>\n      <td>1</td>\n      <td>0</td>\n      <td>0</td>\n      <td>0</td>\n      <td>1</td>\n      <td>NaN</td>\n      <td>NaN</td>\n    </tr>\n    <tr>\n      <th>4</th>\n      <td>207521_1350717.JPG</td>\n      <td>0</td>\n      <td>1</td>\n      <td>0</td>\n      <td>0</td>\n      <td>0</td>\n      <td>1</td>\n      <td>NaN</td>\n      <td>NaN</td>\n    </tr>\n    <tr>\n      <th>...</th>\n      <td>...</td>\n      <td>...</td>\n      <td>...</td>\n      <td>...</td>\n      <td>...</td>\n      <td>...</td>\n      <td>...</td>\n      <td>...</td>\n      <td>...</td>\n    </tr>\n    <tr>\n      <th>13753</th>\n      <td>007-3525-200.JPG</td>\n      <td>0</td>\n      <td>1</td>\n      <td>0</td>\n      <td>0</td>\n      <td>0</td>\n      <td>1</td>\n      <td>NaN</td>\n      <td>NaN</td>\n    </tr>\n    <tr>\n      <th>13754</th>\n      <td>007-3526-200.JPG</td>\n      <td>0</td>\n      <td>1</td>\n      <td>0</td>\n      <td>0</td>\n      <td>0</td>\n      <td>1</td>\n      <td>NaN</td>\n      <td>NaN</td>\n    </tr>\n    <tr>\n      <th>13755</th>\n      <td>007-3527-200.JPG</td>\n      <td>0</td>\n      <td>1</td>\n      <td>0</td>\n      <td>0</td>\n      <td>0</td>\n      <td>1</td>\n      <td>NaN</td>\n      <td>NaN</td>\n    </tr>\n    <tr>\n      <th>13756</th>\n      <td>007-3651-200.JPG</td>\n      <td>0</td>\n      <td>0</td>\n      <td>0</td>\n      <td>1</td>\n      <td>0</td>\n      <td>2</td>\n      <td>NaN</td>\n      <td>NaN</td>\n    </tr>\n    <tr>\n      <th>13757</th>\n      <td>007-3653-200.JPG</td>\n      <td>0</td>\n      <td>0</td>\n      <td>1</td>\n      <td>0</td>\n      <td>0</td>\n      <td>1</td>\n      <td>NaN</td>\n      <td>NaN</td>\n    </tr>\n  </tbody>\n</table>\n<p>13758 rows × 9 columns</p>\n</div>"
     },
     "metadata": {},
     "execution_count": 9
    }
   ],
   "source": [
    "df_train = pd.read_csv(train_dir).iloc[:, 2:]\n",
    "df_train"
   ]
  },
  {
   "cell_type": "code",
   "execution_count": 11,
   "metadata": {},
   "outputs": [
    {
     "output_type": "execute_result",
     "data": {
      "text/plain": [
       "[]"
      ]
     },
     "metadata": {},
     "execution_count": 11
    }
   ],
   "source": [
    "list(set(df_valid.img) & set(df_test.img)&set(df_train.img))"
   ]
  },
  {
   "cell_type": "code",
   "execution_count": null,
   "metadata": {},
   "outputs": [],
   "source": []
  }
 ]
}