{
 "cells": [
  {
   "cell_type": "code",
   "execution_count": 2,
   "metadata": {},
   "outputs": [],
   "source": [
    "import pandas as pd"
   ]
  },
  {
   "cell_type": "code",
   "execution_count": 3,
   "metadata": {},
   "outputs": [
    {
     "data": {
      "text/html": [
       "<div>\n",
       "<style scoped>\n",
       "    .dataframe tbody tr th:only-of-type {\n",
       "        vertical-align: middle;\n",
       "    }\n",
       "\n",
       "    .dataframe tbody tr th {\n",
       "        vertical-align: top;\n",
       "    }\n",
       "\n",
       "    .dataframe thead th {\n",
       "        text-align: right;\n",
       "    }\n",
       "</style>\n",
       "<table border=\"1\" class=\"dataframe\">\n",
       "  <thead>\n",
       "    <tr style=\"text-align: right;\">\n",
       "      <th></th>\n",
       "      <th>image</th>\n",
       "      <th>labels</th>\n",
       "    </tr>\n",
       "  </thead>\n",
       "  <tbody>\n",
       "    <tr>\n",
       "      <th>0</th>\n",
       "      <td>1057328_11472605_Left Field 3.JPG</td>\n",
       "      <td>0</td>\n",
       "    </tr>\n",
       "    <tr>\n",
       "      <th>1</th>\n",
       "      <td>1334116_13599891_Right Field 1.JPG</td>\n",
       "      <td>0</td>\n",
       "    </tr>\n",
       "    <tr>\n",
       "      <th>2</th>\n",
       "      <td>926652_10417862_Left Field 3.JPG</td>\n",
       "      <td>0</td>\n",
       "    </tr>\n",
       "    <tr>\n",
       "      <th>3</th>\n",
       "      <td>1175273_12410031_Left Field 3.JPG</td>\n",
       "      <td>0</td>\n",
       "    </tr>\n",
       "    <tr>\n",
       "      <th>4</th>\n",
       "      <td>1261963_13070059_Right Field 2.JPG</td>\n",
       "      <td>0</td>\n",
       "    </tr>\n",
       "    <tr>\n",
       "      <th>...</th>\n",
       "      <td>...</td>\n",
       "      <td>...</td>\n",
       "    </tr>\n",
       "    <tr>\n",
       "      <th>512227</th>\n",
       "      <td>1314554_13455839_Right Field 3.JPG</td>\n",
       "      <td>1</td>\n",
       "    </tr>\n",
       "    <tr>\n",
       "      <th>512228</th>\n",
       "      <td>1132380_12071324_Right Field 1.JPG</td>\n",
       "      <td>0</td>\n",
       "    </tr>\n",
       "    <tr>\n",
       "      <th>512229</th>\n",
       "      <td>1120879_11978828_Right Field 3.JPG</td>\n",
       "      <td>0</td>\n",
       "    </tr>\n",
       "    <tr>\n",
       "      <th>512230</th>\n",
       "      <td>1325187_13535058_Right Field 3.JPG</td>\n",
       "      <td>0</td>\n",
       "    </tr>\n",
       "    <tr>\n",
       "      <th>512231</th>\n",
       "      <td>1321278_13505627_Left Field 3.JPG</td>\n",
       "      <td>0</td>\n",
       "    </tr>\n",
       "  </tbody>\n",
       "</table>\n",
       "<p>512232 rows × 2 columns</p>\n",
       "</div>"
      ],
      "text/plain": [
       "                                     image  labels\n",
       "0        1057328_11472605_Left Field 3.JPG       0\n",
       "1       1334116_13599891_Right Field 1.JPG       0\n",
       "2         926652_10417862_Left Field 3.JPG       0\n",
       "3        1175273_12410031_Left Field 3.JPG       0\n",
       "4       1261963_13070059_Right Field 2.JPG       0\n",
       "...                                    ...     ...\n",
       "512227  1314554_13455839_Right Field 3.JPG       1\n",
       "512228  1132380_12071324_Right Field 1.JPG       0\n",
       "512229  1120879_11978828_Right Field 3.JPG       0\n",
       "512230  1325187_13535058_Right Field 3.JPG       0\n",
       "512231   1321278_13505627_Left Field 3.JPG       0\n",
       "\n",
       "[512232 rows x 2 columns]"
      ]
     },
     "execution_count": 3,
     "metadata": {},
     "output_type": "execute_result"
    }
   ],
   "source": [
    "df_train = pd.read_csv('/home/ubuntu/QA_code/QA_application/Processed_Input_files/Split_folders/2_cases_train_val_20220727-181159.csv').iloc[:,1:]\n",
    "df_train"
   ]
  },
  {
   "cell_type": "code",
   "execution_count": 4,
   "metadata": {},
   "outputs": [
    {
     "data": {
      "text/html": [
       "<div>\n",
       "<style scoped>\n",
       "    .dataframe tbody tr th:only-of-type {\n",
       "        vertical-align: middle;\n",
       "    }\n",
       "\n",
       "    .dataframe tbody tr th {\n",
       "        vertical-align: top;\n",
       "    }\n",
       "\n",
       "    .dataframe thead th {\n",
       "        text-align: right;\n",
       "    }\n",
       "</style>\n",
       "<table border=\"1\" class=\"dataframe\">\n",
       "  <thead>\n",
       "    <tr style=\"text-align: right;\">\n",
       "      <th></th>\n",
       "      <th>image</th>\n",
       "      <th>labels</th>\n",
       "    </tr>\n",
       "  </thead>\n",
       "  <tbody>\n",
       "    <tr>\n",
       "      <th>0</th>\n",
       "      <td>806597_9478940_Left Field 3.JPG</td>\n",
       "      <td>0</td>\n",
       "    </tr>\n",
       "    <tr>\n",
       "      <th>1</th>\n",
       "      <td>1323368_13520882_Right Field 1.JPG</td>\n",
       "      <td>0</td>\n",
       "    </tr>\n",
       "    <tr>\n",
       "      <th>2</th>\n",
       "      <td>1270743_13137857_Left Field 1.JPG</td>\n",
       "      <td>0</td>\n",
       "    </tr>\n",
       "    <tr>\n",
       "      <th>3</th>\n",
       "      <td>1264191_13087326_Right Field 3.JPG</td>\n",
       "      <td>0</td>\n",
       "    </tr>\n",
       "    <tr>\n",
       "      <th>4</th>\n",
       "      <td>1316134_13467713_Right Field 3.JPG</td>\n",
       "      <td>0</td>\n",
       "    </tr>\n",
       "    <tr>\n",
       "      <th>...</th>\n",
       "      <td>...</td>\n",
       "      <td>...</td>\n",
       "    </tr>\n",
       "    <tr>\n",
       "      <th>26953</th>\n",
       "      <td>971517_10777032_Right Field 3.JPG</td>\n",
       "      <td>1</td>\n",
       "    </tr>\n",
       "    <tr>\n",
       "      <th>26954</th>\n",
       "      <td>1330444_13571434_Right Field 3.JPG</td>\n",
       "      <td>1</td>\n",
       "    </tr>\n",
       "    <tr>\n",
       "      <th>26955</th>\n",
       "      <td>628174_8072338_Right Field 2.JPG</td>\n",
       "      <td>1</td>\n",
       "    </tr>\n",
       "    <tr>\n",
       "      <th>26956</th>\n",
       "      <td>304499_2064877.JPG</td>\n",
       "      <td>1</td>\n",
       "    </tr>\n",
       "    <tr>\n",
       "      <th>26957</th>\n",
       "      <td>1192373_12544456_Right Field 1.JPG</td>\n",
       "      <td>1</td>\n",
       "    </tr>\n",
       "  </tbody>\n",
       "</table>\n",
       "<p>26958 rows × 2 columns</p>\n",
       "</div>"
      ],
      "text/plain": [
       "                                    image  labels\n",
       "0         806597_9478940_Left Field 3.JPG       0\n",
       "1      1323368_13520882_Right Field 1.JPG       0\n",
       "2       1270743_13137857_Left Field 1.JPG       0\n",
       "3      1264191_13087326_Right Field 3.JPG       0\n",
       "4      1316134_13467713_Right Field 3.JPG       0\n",
       "...                                   ...     ...\n",
       "26953   971517_10777032_Right Field 3.JPG       1\n",
       "26954  1330444_13571434_Right Field 3.JPG       1\n",
       "26955    628174_8072338_Right Field 2.JPG       1\n",
       "26956                  304499_2064877.JPG       1\n",
       "26957  1192373_12544456_Right Field 1.JPG       1\n",
       "\n",
       "[26958 rows x 2 columns]"
      ]
     },
     "execution_count": 4,
     "metadata": {},
     "output_type": "execute_result"
    }
   ],
   "source": [
    "df_test = pd.read_csv('/home/ubuntu/QA_code/QA_application/Processed_Input_files/Split_folders/2_cases_test_20220727-181159.csv').iloc[:,1:]\n",
    "df_test"
   ]
  },
  {
   "cell_type": "code",
   "execution_count": 3,
   "metadata": {},
   "outputs": [
    {
     "data": {
      "text/html": [
       "<div>\n",
       "<style scoped>\n",
       "    .dataframe tbody tr th:only-of-type {\n",
       "        vertical-align: middle;\n",
       "    }\n",
       "\n",
       "    .dataframe tbody tr th {\n",
       "        vertical-align: top;\n",
       "    }\n",
       "\n",
       "    .dataframe thead th {\n",
       "        text-align: right;\n",
       "    }\n",
       "</style>\n",
       "<table border=\"1\" class=\"dataframe\">\n",
       "  <thead>\n",
       "    <tr style=\"text-align: right;\">\n",
       "      <th></th>\n",
       "      <th>image</th>\n",
       "      <th>labels</th>\n",
       "    </tr>\n",
       "  </thead>\n",
       "  <tbody>\n",
       "    <tr>\n",
       "      <th>0</th>\n",
       "      <td>207521_1350712.JPG</td>\n",
       "      <td>0</td>\n",
       "    </tr>\n",
       "    <tr>\n",
       "      <th>1</th>\n",
       "      <td>207521_1350713.JPG</td>\n",
       "      <td>0</td>\n",
       "    </tr>\n",
       "    <tr>\n",
       "      <th>2</th>\n",
       "      <td>207521_1350715.JPG</td>\n",
       "      <td>0</td>\n",
       "    </tr>\n",
       "    <tr>\n",
       "      <th>3</th>\n",
       "      <td>207521_1350716.JPG</td>\n",
       "      <td>0</td>\n",
       "    </tr>\n",
       "    <tr>\n",
       "      <th>4</th>\n",
       "      <td>207521_1350717.JPG</td>\n",
       "      <td>0</td>\n",
       "    </tr>\n",
       "    <tr>\n",
       "      <th>...</th>\n",
       "      <td>...</td>\n",
       "      <td>...</td>\n",
       "    </tr>\n",
       "    <tr>\n",
       "      <th>539185</th>\n",
       "      <td>691008_8567632_Left Field 1.JPG</td>\n",
       "      <td>0</td>\n",
       "    </tr>\n",
       "    <tr>\n",
       "      <th>539186</th>\n",
       "      <td>691008_8567633_Right Field 2.JPG</td>\n",
       "      <td>0</td>\n",
       "    </tr>\n",
       "    <tr>\n",
       "      <th>539187</th>\n",
       "      <td>691008_8567634_Left Field 2.JPG</td>\n",
       "      <td>0</td>\n",
       "    </tr>\n",
       "    <tr>\n",
       "      <th>539188</th>\n",
       "      <td>691008_8567635_Right Field 3.JPG</td>\n",
       "      <td>0</td>\n",
       "    </tr>\n",
       "    <tr>\n",
       "      <th>539189</th>\n",
       "      <td>691008_8567636_Left Field 3.JPG</td>\n",
       "      <td>0</td>\n",
       "    </tr>\n",
       "  </tbody>\n",
       "</table>\n",
       "<p>539190 rows × 2 columns</p>\n",
       "</div>"
      ],
      "text/plain": [
       "                                   image  labels\n",
       "0                     207521_1350712.JPG       0\n",
       "1                     207521_1350713.JPG       0\n",
       "2                     207521_1350715.JPG       0\n",
       "3                     207521_1350716.JPG       0\n",
       "4                     207521_1350717.JPG       0\n",
       "...                                  ...     ...\n",
       "539185   691008_8567632_Left Field 1.JPG       0\n",
       "539186  691008_8567633_Right Field 2.JPG       0\n",
       "539187   691008_8567634_Left Field 2.JPG       0\n",
       "539188  691008_8567635_Right Field 3.JPG       0\n",
       "539189   691008_8567636_Left Field 3.JPG       0\n",
       "\n",
       "[539190 rows x 2 columns]"
      ]
     },
     "execution_count": 3,
     "metadata": {},
     "output_type": "execute_result"
    }
   ],
   "source": [
    "two_cases = pd.read_csv('/home/ubuntu/QA_code/QA_application/Processed_Input_files/2_cases.csv').iloc[:,1:]\n",
    "two_cases"
   ]
  },
  {
   "cell_type": "code",
   "execution_count": 4,
   "metadata": {},
   "outputs": [
    {
     "data": {
      "text/plain": [
       "0    499033\n",
       "1     40157\n",
       "Name: labels, dtype: int64"
      ]
     },
     "execution_count": 4,
     "metadata": {},
     "output_type": "execute_result"
    }
   ],
   "source": [
    "two_cases['labels'].value_counts()"
   ]
  },
  {
   "cell_type": "code",
   "execution_count": 5,
   "metadata": {},
   "outputs": [
    {
     "data": {
      "text/html": [
       "<div>\n",
       "<style scoped>\n",
       "    .dataframe tbody tr th:only-of-type {\n",
       "        vertical-align: middle;\n",
       "    }\n",
       "\n",
       "    .dataframe tbody tr th {\n",
       "        vertical-align: top;\n",
       "    }\n",
       "\n",
       "    .dataframe thead th {\n",
       "        text-align: right;\n",
       "    }\n",
       "</style>\n",
       "<table border=\"1\" class=\"dataframe\">\n",
       "  <thead>\n",
       "    <tr style=\"text-align: right;\">\n",
       "      <th></th>\n",
       "      <th>image</th>\n",
       "      <th>labels</th>\n",
       "    </tr>\n",
       "  </thead>\n",
       "  <tbody>\n",
       "    <tr>\n",
       "      <th>0</th>\n",
       "      <td>207521_1350712.JPG</td>\n",
       "      <td>1</td>\n",
       "    </tr>\n",
       "    <tr>\n",
       "      <th>1</th>\n",
       "      <td>207521_1350713.JPG</td>\n",
       "      <td>1</td>\n",
       "    </tr>\n",
       "    <tr>\n",
       "      <th>2</th>\n",
       "      <td>207521_1350715.JPG</td>\n",
       "      <td>0</td>\n",
       "    </tr>\n",
       "    <tr>\n",
       "      <th>3</th>\n",
       "      <td>207521_1350716.JPG</td>\n",
       "      <td>1</td>\n",
       "    </tr>\n",
       "    <tr>\n",
       "      <th>4</th>\n",
       "      <td>207521_1350717.JPG</td>\n",
       "      <td>1</td>\n",
       "    </tr>\n",
       "    <tr>\n",
       "      <th>...</th>\n",
       "      <td>...</td>\n",
       "      <td>...</td>\n",
       "    </tr>\n",
       "    <tr>\n",
       "      <th>539185</th>\n",
       "      <td>691008_8567632_Left Field 1.JPG</td>\n",
       "      <td>1</td>\n",
       "    </tr>\n",
       "    <tr>\n",
       "      <th>539186</th>\n",
       "      <td>691008_8567633_Right Field 2.JPG</td>\n",
       "      <td>1</td>\n",
       "    </tr>\n",
       "    <tr>\n",
       "      <th>539187</th>\n",
       "      <td>691008_8567634_Left Field 2.JPG</td>\n",
       "      <td>1</td>\n",
       "    </tr>\n",
       "    <tr>\n",
       "      <th>539188</th>\n",
       "      <td>691008_8567635_Right Field 3.JPG</td>\n",
       "      <td>1</td>\n",
       "    </tr>\n",
       "    <tr>\n",
       "      <th>539189</th>\n",
       "      <td>691008_8567636_Left Field 3.JPG</td>\n",
       "      <td>1</td>\n",
       "    </tr>\n",
       "  </tbody>\n",
       "</table>\n",
       "<p>539190 rows × 2 columns</p>\n",
       "</div>"
      ],
      "text/plain": [
       "                                   image  labels\n",
       "0                     207521_1350712.JPG       1\n",
       "1                     207521_1350713.JPG       1\n",
       "2                     207521_1350715.JPG       0\n",
       "3                     207521_1350716.JPG       1\n",
       "4                     207521_1350717.JPG       1\n",
       "...                                  ...     ...\n",
       "539185   691008_8567632_Left Field 1.JPG       1\n",
       "539186  691008_8567633_Right Field 2.JPG       1\n",
       "539187   691008_8567634_Left Field 2.JPG       1\n",
       "539188  691008_8567635_Right Field 3.JPG       1\n",
       "539189   691008_8567636_Left Field 3.JPG       1\n",
       "\n",
       "[539190 rows x 2 columns]"
      ]
     },
     "execution_count": 5,
     "metadata": {},
     "output_type": "execute_result"
    }
   ],
   "source": [
    "three_cases = pd.read_csv('/home/ubuntu/QA_code/QA_application/Processed_Input_files/3_cases.csv').iloc[:,1:]\n",
    "three_cases"
   ]
  },
  {
   "cell_type": "code",
   "execution_count": 6,
   "metadata": {},
   "outputs": [
    {
     "data": {
      "text/plain": [
       "1    417036\n",
       "0     81997\n",
       "2     40157\n",
       "Name: labels, dtype: int64"
      ]
     },
     "execution_count": 6,
     "metadata": {},
     "output_type": "execute_result"
    }
   ],
   "source": [
    "three_cases['labels'].value_counts()"
   ]
  },
  {
   "cell_type": "code",
   "execution_count": 9,
   "metadata": {},
   "outputs": [
    {
     "data": {
      "text/html": [
       "<div>\n",
       "<style scoped>\n",
       "    .dataframe tbody tr th:only-of-type {\n",
       "        vertical-align: middle;\n",
       "    }\n",
       "\n",
       "    .dataframe tbody tr th {\n",
       "        vertical-align: top;\n",
       "    }\n",
       "\n",
       "    .dataframe thead th {\n",
       "        text-align: right;\n",
       "    }\n",
       "</style>\n",
       "<table border=\"1\" class=\"dataframe\">\n",
       "  <thead>\n",
       "    <tr style=\"text-align: right;\">\n",
       "      <th></th>\n",
       "      <th>image</th>\n",
       "      <th>labels</th>\n",
       "    </tr>\n",
       "  </thead>\n",
       "  <tbody>\n",
       "    <tr>\n",
       "      <th>0</th>\n",
       "      <td>207521_1350712.JPG</td>\n",
       "      <td>1</td>\n",
       "    </tr>\n",
       "    <tr>\n",
       "      <th>1</th>\n",
       "      <td>207521_1350713.JPG</td>\n",
       "      <td>1</td>\n",
       "    </tr>\n",
       "    <tr>\n",
       "      <th>2</th>\n",
       "      <td>207521_1350715.JPG</td>\n",
       "      <td>0</td>\n",
       "    </tr>\n",
       "    <tr>\n",
       "      <th>3</th>\n",
       "      <td>207521_1350716.JPG</td>\n",
       "      <td>1</td>\n",
       "    </tr>\n",
       "    <tr>\n",
       "      <th>4</th>\n",
       "      <td>207521_1350717.JPG</td>\n",
       "      <td>1</td>\n",
       "    </tr>\n",
       "    <tr>\n",
       "      <th>...</th>\n",
       "      <td>...</td>\n",
       "      <td>...</td>\n",
       "    </tr>\n",
       "    <tr>\n",
       "      <th>539185</th>\n",
       "      <td>691008_8567632_Left Field 1.JPG</td>\n",
       "      <td>2</td>\n",
       "    </tr>\n",
       "    <tr>\n",
       "      <th>539186</th>\n",
       "      <td>691008_8567633_Right Field 2.JPG</td>\n",
       "      <td>2</td>\n",
       "    </tr>\n",
       "    <tr>\n",
       "      <th>539187</th>\n",
       "      <td>691008_8567634_Left Field 2.JPG</td>\n",
       "      <td>2</td>\n",
       "    </tr>\n",
       "    <tr>\n",
       "      <th>539188</th>\n",
       "      <td>691008_8567635_Right Field 3.JPG</td>\n",
       "      <td>2</td>\n",
       "    </tr>\n",
       "    <tr>\n",
       "      <th>539189</th>\n",
       "      <td>691008_8567636_Left Field 3.JPG</td>\n",
       "      <td>2</td>\n",
       "    </tr>\n",
       "  </tbody>\n",
       "</table>\n",
       "<p>539190 rows × 2 columns</p>\n",
       "</div>"
      ],
      "text/plain": [
       "                                   image  labels\n",
       "0                     207521_1350712.JPG       1\n",
       "1                     207521_1350713.JPG       1\n",
       "2                     207521_1350715.JPG       0\n",
       "3                     207521_1350716.JPG       1\n",
       "4                     207521_1350717.JPG       1\n",
       "...                                  ...     ...\n",
       "539185   691008_8567632_Left Field 1.JPG       2\n",
       "539186  691008_8567633_Right Field 2.JPG       2\n",
       "539187   691008_8567634_Left Field 2.JPG       2\n",
       "539188  691008_8567635_Right Field 3.JPG       2\n",
       "539189   691008_8567636_Left Field 3.JPG       2\n",
       "\n",
       "[539190 rows x 2 columns]"
      ]
     },
     "execution_count": 9,
     "metadata": {},
     "output_type": "execute_result"
    }
   ],
   "source": [
    "four_cases = pd.read_csv('/home/ubuntu/QA_code/QA_application/Processed_Input_files/4_cases.csv').iloc[:,1:]\n",
    "four_cases"
   ]
  },
  {
   "cell_type": "code",
   "execution_count": 75,
   "metadata": {},
   "outputs": [
    {
     "data": {
      "text/plain": [
       "2    220201\n",
       "1    196835\n",
       "0     81997\n",
       "3     40157\n",
       "Name: labels, dtype: int64"
      ]
     },
     "execution_count": 75,
     "metadata": {},
     "output_type": "execute_result"
    }
   ],
   "source": [
    "four_cases['labels'].value_counts()"
   ]
  },
  {
   "cell_type": "code",
   "execution_count": 77,
   "metadata": {},
   "outputs": [
    {
     "data": {
      "text/plain": [
       "2003"
      ]
     },
     "execution_count": 77,
     "metadata": {},
     "output_type": "execute_result"
    }
   ],
   "source": [
    "sfact = 2003\n",
    "sfact"
   ]
  },
  {
   "cell_type": "code",
   "execution_count": 33,
   "metadata": {},
   "outputs": [],
   "source": [
    "four_cases = four_cases.sample(frac=1, random_state=42)"
   ]
  },
  {
   "cell_type": "code",
   "execution_count": 99,
   "metadata": {},
   "outputs": [
    {
     "data": {
      "text/html": [
       "<div>\n",
       "<style scoped>\n",
       "    .dataframe tbody tr th:only-of-type {\n",
       "        vertical-align: middle;\n",
       "    }\n",
       "\n",
       "    .dataframe tbody tr th {\n",
       "        vertical-align: top;\n",
       "    }\n",
       "\n",
       "    .dataframe thead th {\n",
       "        text-align: right;\n",
       "    }\n",
       "</style>\n",
       "<table border=\"1\" class=\"dataframe\">\n",
       "  <thead>\n",
       "    <tr style=\"text-align: right;\">\n",
       "      <th></th>\n",
       "      <th>image</th>\n",
       "      <th>labels</th>\n",
       "    </tr>\n",
       "  </thead>\n",
       "  <tbody>\n",
       "    <tr>\n",
       "      <th>127227</th>\n",
       "      <td>1323368_13520882_Right Field 1.JPG</td>\n",
       "      <td>0</td>\n",
       "    </tr>\n",
       "    <tr>\n",
       "      <th>393748</th>\n",
       "      <td>906489_10260028_Right Field 1.JPG</td>\n",
       "      <td>0</td>\n",
       "    </tr>\n",
       "    <tr>\n",
       "      <th>343012</th>\n",
       "      <td>1097357_11792849_Right Field 1.JPG</td>\n",
       "      <td>0</td>\n",
       "    </tr>\n",
       "    <tr>\n",
       "      <th>455891</th>\n",
       "      <td>784968_9310479_Right Field 1.JPG</td>\n",
       "      <td>0</td>\n",
       "    </tr>\n",
       "    <tr>\n",
       "      <th>291904</th>\n",
       "      <td>1168198_12353967_Left Field 1.JPG</td>\n",
       "      <td>0</td>\n",
       "    </tr>\n",
       "    <tr>\n",
       "      <th>...</th>\n",
       "      <td>...</td>\n",
       "      <td>...</td>\n",
       "    </tr>\n",
       "    <tr>\n",
       "      <th>486059</th>\n",
       "      <td>575493_7657701_Left Field 1.JPG</td>\n",
       "      <td>3</td>\n",
       "    </tr>\n",
       "    <tr>\n",
       "      <th>426496</th>\n",
       "      <td>696872_8614514_Left Field 3.JPG</td>\n",
       "      <td>3</td>\n",
       "    </tr>\n",
       "    <tr>\n",
       "      <th>113078</th>\n",
       "      <td>1316715_13472150_Left Field 1.JPG</td>\n",
       "      <td>3</td>\n",
       "    </tr>\n",
       "    <tr>\n",
       "      <th>333298</th>\n",
       "      <td>1087210_11715473_Right Field 3.JPG</td>\n",
       "      <td>3</td>\n",
       "    </tr>\n",
       "    <tr>\n",
       "      <th>495078</th>\n",
       "      <td>594759_7808354_Right Field 3.JPG</td>\n",
       "      <td>3</td>\n",
       "    </tr>\n",
       "  </tbody>\n",
       "</table>\n",
       "<p>8012 rows × 2 columns</p>\n",
       "</div>"
      ],
      "text/plain": [
       "                                     image  labels\n",
       "127227  1323368_13520882_Right Field 1.JPG       0\n",
       "393748   906489_10260028_Right Field 1.JPG       0\n",
       "343012  1097357_11792849_Right Field 1.JPG       0\n",
       "455891    784968_9310479_Right Field 1.JPG       0\n",
       "291904   1168198_12353967_Left Field 1.JPG       0\n",
       "...                                    ...     ...\n",
       "486059     575493_7657701_Left Field 1.JPG       3\n",
       "426496     696872_8614514_Left Field 3.JPG       3\n",
       "113078   1316715_13472150_Left Field 1.JPG       3\n",
       "333298  1087210_11715473_Right Field 3.JPG       3\n",
       "495078    594759_7808354_Right Field 3.JPG       3\n",
       "\n",
       "[8012 rows x 2 columns]"
      ]
     },
     "execution_count": 99,
     "metadata": {},
     "output_type": "execute_result"
    }
   ],
   "source": [
    "df_temp_1 = four_cases[four_cases['labels']==0][:sfact]\n",
    "df_temp_2 = four_cases[four_cases['labels']==1][:sfact]\n",
    "df_temp_3 = four_cases[four_cases['labels']==2][:sfact]\n",
    "df_temp_4 = four_cases[four_cases['labels']==3][:sfact]\n",
    "test_df_4 = pd.concat([df_temp_1, df_temp_2, df_temp_3, df_temp_4])\n",
    "test_df_4"
   ]
  },
  {
   "cell_type": "code",
   "execution_count": 100,
   "metadata": {},
   "outputs": [],
   "source": [
    "short_sfact = 1001\n",
    "df_temp2_good = four_cases[four_cases['labels']==1][:1002]\n",
    "df_temp2_adequate = four_cases[four_cases['labels']==2][:1001]"
   ]
  },
  {
   "cell_type": "code",
   "execution_count": 101,
   "metadata": {},
   "outputs": [
    {
     "data": {
      "text/html": [
       "<div>\n",
       "<style scoped>\n",
       "    .dataframe tbody tr th:only-of-type {\n",
       "        vertical-align: middle;\n",
       "    }\n",
       "\n",
       "    .dataframe tbody tr th {\n",
       "        vertical-align: top;\n",
       "    }\n",
       "\n",
       "    .dataframe thead th {\n",
       "        text-align: right;\n",
       "    }\n",
       "</style>\n",
       "<table border=\"1\" class=\"dataframe\">\n",
       "  <thead>\n",
       "    <tr style=\"text-align: right;\">\n",
       "      <th></th>\n",
       "      <th>image</th>\n",
       "      <th>labels</th>\n",
       "    </tr>\n",
       "  </thead>\n",
       "  <tbody>\n",
       "    <tr>\n",
       "      <th>127227</th>\n",
       "      <td>1323368_13520882_Right Field 1.JPG</td>\n",
       "      <td>0</td>\n",
       "    </tr>\n",
       "    <tr>\n",
       "      <th>393748</th>\n",
       "      <td>906489_10260028_Right Field 1.JPG</td>\n",
       "      <td>0</td>\n",
       "    </tr>\n",
       "    <tr>\n",
       "      <th>343012</th>\n",
       "      <td>1097357_11792849_Right Field 1.JPG</td>\n",
       "      <td>0</td>\n",
       "    </tr>\n",
       "    <tr>\n",
       "      <th>455891</th>\n",
       "      <td>784968_9310479_Right Field 1.JPG</td>\n",
       "      <td>0</td>\n",
       "    </tr>\n",
       "    <tr>\n",
       "      <th>291904</th>\n",
       "      <td>1168198_12353967_Left Field 1.JPG</td>\n",
       "      <td>0</td>\n",
       "    </tr>\n",
       "    <tr>\n",
       "      <th>...</th>\n",
       "      <td>...</td>\n",
       "      <td>...</td>\n",
       "    </tr>\n",
       "    <tr>\n",
       "      <th>486059</th>\n",
       "      <td>575493_7657701_Left Field 1.JPG</td>\n",
       "      <td>3</td>\n",
       "    </tr>\n",
       "    <tr>\n",
       "      <th>426496</th>\n",
       "      <td>696872_8614514_Left Field 3.JPG</td>\n",
       "      <td>3</td>\n",
       "    </tr>\n",
       "    <tr>\n",
       "      <th>113078</th>\n",
       "      <td>1316715_13472150_Left Field 1.JPG</td>\n",
       "      <td>3</td>\n",
       "    </tr>\n",
       "    <tr>\n",
       "      <th>333298</th>\n",
       "      <td>1087210_11715473_Right Field 3.JPG</td>\n",
       "      <td>3</td>\n",
       "    </tr>\n",
       "    <tr>\n",
       "      <th>495078</th>\n",
       "      <td>594759_7808354_Right Field 3.JPG</td>\n",
       "      <td>3</td>\n",
       "    </tr>\n",
       "  </tbody>\n",
       "</table>\n",
       "<p>6009 rows × 2 columns</p>\n",
       "</div>"
      ],
      "text/plain": [
       "                                     image  labels\n",
       "127227  1323368_13520882_Right Field 1.JPG       0\n",
       "393748   906489_10260028_Right Field 1.JPG       0\n",
       "343012  1097357_11792849_Right Field 1.JPG       0\n",
       "455891    784968_9310479_Right Field 1.JPG       0\n",
       "291904   1168198_12353967_Left Field 1.JPG       0\n",
       "...                                    ...     ...\n",
       "486059     575493_7657701_Left Field 1.JPG       3\n",
       "426496     696872_8614514_Left Field 3.JPG       3\n",
       "113078   1316715_13472150_Left Field 1.JPG       3\n",
       "333298  1087210_11715473_Right Field 3.JPG       3\n",
       "495078    594759_7808354_Right Field 3.JPG       3\n",
       "\n",
       "[6009 rows x 2 columns]"
      ]
     },
     "execution_count": 101,
     "metadata": {},
     "output_type": "execute_result"
    }
   ],
   "source": [
    "test_df_3 = pd.concat([df_temp_1, df_temp2_good, df_temp2_adequate, df_temp_4])\n",
    "test_df_3"
   ]
  },
  {
   "cell_type": "code",
   "execution_count": 38,
   "metadata": {},
   "outputs": [
    {
     "data": {
      "text/plain": [
       "3    2003\n",
       "0    2003\n",
       "1    1002\n",
       "2    1001\n",
       "Name: labels, dtype: int64"
      ]
     },
     "execution_count": 38,
     "metadata": {},
     "output_type": "execute_result"
    }
   ],
   "source": [
    "test_df_3['labels'].value_counts()"
   ]
  },
  {
   "cell_type": "code",
   "execution_count": 40,
   "metadata": {},
   "outputs": [
    {
     "data": {
      "text/plain": [
       "2001"
      ]
     },
     "execution_count": 40,
     "metadata": {},
     "output_type": "execute_result"
    }
   ],
   "source": [
    "667+667+667"
   ]
  },
  {
   "cell_type": "code",
   "execution_count": 42,
   "metadata": {},
   "outputs": [],
   "source": [
    "binary_sfact= 667\n",
    "df_temp0_exc = four_cases[four_cases['labels']==0][:668]\n",
    "df_temp1_g = four_cases[four_cases['labels']==1][:668]\n",
    "df_temp2_adqe = four_cases[four_cases['labels']==2][:667]"
   ]
  },
  {
   "cell_type": "code",
   "execution_count": 43,
   "metadata": {},
   "outputs": [
    {
     "data": {
      "text/html": [
       "<div>\n",
       "<style scoped>\n",
       "    .dataframe tbody tr th:only-of-type {\n",
       "        vertical-align: middle;\n",
       "    }\n",
       "\n",
       "    .dataframe tbody tr th {\n",
       "        vertical-align: top;\n",
       "    }\n",
       "\n",
       "    .dataframe thead th {\n",
       "        text-align: right;\n",
       "    }\n",
       "</style>\n",
       "<table border=\"1\" class=\"dataframe\">\n",
       "  <thead>\n",
       "    <tr style=\"text-align: right;\">\n",
       "      <th></th>\n",
       "      <th>image</th>\n",
       "      <th>labels</th>\n",
       "    </tr>\n",
       "  </thead>\n",
       "  <tbody>\n",
       "    <tr>\n",
       "      <th>127227</th>\n",
       "      <td>1323368_13520882_Right Field 1.JPG</td>\n",
       "      <td>0</td>\n",
       "    </tr>\n",
       "    <tr>\n",
       "      <th>393748</th>\n",
       "      <td>906489_10260028_Right Field 1.JPG</td>\n",
       "      <td>0</td>\n",
       "    </tr>\n",
       "    <tr>\n",
       "      <th>343012</th>\n",
       "      <td>1097357_11792849_Right Field 1.JPG</td>\n",
       "      <td>0</td>\n",
       "    </tr>\n",
       "    <tr>\n",
       "      <th>455891</th>\n",
       "      <td>784968_9310479_Right Field 1.JPG</td>\n",
       "      <td>0</td>\n",
       "    </tr>\n",
       "    <tr>\n",
       "      <th>291904</th>\n",
       "      <td>1168198_12353967_Left Field 1.JPG</td>\n",
       "      <td>0</td>\n",
       "    </tr>\n",
       "    <tr>\n",
       "      <th>...</th>\n",
       "      <td>...</td>\n",
       "      <td>...</td>\n",
       "    </tr>\n",
       "    <tr>\n",
       "      <th>486059</th>\n",
       "      <td>575493_7657701_Left Field 1.JPG</td>\n",
       "      <td>3</td>\n",
       "    </tr>\n",
       "    <tr>\n",
       "      <th>426496</th>\n",
       "      <td>696872_8614514_Left Field 3.JPG</td>\n",
       "      <td>3</td>\n",
       "    </tr>\n",
       "    <tr>\n",
       "      <th>113078</th>\n",
       "      <td>1316715_13472150_Left Field 1.JPG</td>\n",
       "      <td>3</td>\n",
       "    </tr>\n",
       "    <tr>\n",
       "      <th>333298</th>\n",
       "      <td>1087210_11715473_Right Field 3.JPG</td>\n",
       "      <td>3</td>\n",
       "    </tr>\n",
       "    <tr>\n",
       "      <th>495078</th>\n",
       "      <td>594759_7808354_Right Field 3.JPG</td>\n",
       "      <td>3</td>\n",
       "    </tr>\n",
       "  </tbody>\n",
       "</table>\n",
       "<p>4006 rows × 2 columns</p>\n",
       "</div>"
      ],
      "text/plain": [
       "                                     image  labels\n",
       "127227  1323368_13520882_Right Field 1.JPG       0\n",
       "393748   906489_10260028_Right Field 1.JPG       0\n",
       "343012  1097357_11792849_Right Field 1.JPG       0\n",
       "455891    784968_9310479_Right Field 1.JPG       0\n",
       "291904   1168198_12353967_Left Field 1.JPG       0\n",
       "...                                    ...     ...\n",
       "486059     575493_7657701_Left Field 1.JPG       3\n",
       "426496     696872_8614514_Left Field 3.JPG       3\n",
       "113078   1316715_13472150_Left Field 1.JPG       3\n",
       "333298  1087210_11715473_Right Field 3.JPG       3\n",
       "495078    594759_7808354_Right Field 3.JPG       3\n",
       "\n",
       "[4006 rows x 2 columns]"
      ]
     },
     "execution_count": 43,
     "metadata": {},
     "output_type": "execute_result"
    }
   ],
   "source": [
    "test_df_2 = pd.concat([df_temp0_exc, df_temp1_g, df_temp2_adqe, df_temp_4])\n",
    "test_df_2"
   ]
  },
  {
   "cell_type": "code",
   "execution_count": 44,
   "metadata": {},
   "outputs": [
    {
     "data": {
      "text/plain": [
       "3    2003\n",
       "1     668\n",
       "0     668\n",
       "2     667\n",
       "Name: labels, dtype: int64"
      ]
     },
     "execution_count": 44,
     "metadata": {},
     "output_type": "execute_result"
    }
   ],
   "source": [
    "test_df_2['labels'].value_counts()"
   ]
  },
  {
   "cell_type": "code",
   "execution_count": 78,
   "metadata": {},
   "outputs": [
    {
     "data": {
      "text/html": [
       "<div>\n",
       "<style scoped>\n",
       "    .dataframe tbody tr th:only-of-type {\n",
       "        vertical-align: middle;\n",
       "    }\n",
       "\n",
       "    .dataframe tbody tr th {\n",
       "        vertical-align: top;\n",
       "    }\n",
       "\n",
       "    .dataframe thead th {\n",
       "        text-align: right;\n",
       "    }\n",
       "</style>\n",
       "<table border=\"1\" class=\"dataframe\">\n",
       "  <thead>\n",
       "    <tr style=\"text-align: right;\">\n",
       "      <th></th>\n",
       "      <th>image</th>\n",
       "      <th>labels</th>\n",
       "    </tr>\n",
       "  </thead>\n",
       "  <tbody>\n",
       "    <tr>\n",
       "      <th>382082</th>\n",
       "      <td>1044826_11371355_Left Field 2.JPG</td>\n",
       "      <td>2</td>\n",
       "    </tr>\n",
       "    <tr>\n",
       "      <th>3642</th>\n",
       "      <td>269826_1799435.JPG</td>\n",
       "      <td>2</td>\n",
       "    </tr>\n",
       "    <tr>\n",
       "      <th>248356</th>\n",
       "      <td>1229020_12818491_Right Field 1.JPG</td>\n",
       "      <td>2</td>\n",
       "    </tr>\n",
       "    <tr>\n",
       "      <th>209126</th>\n",
       "      <td>1197011_12577877_Right Field 1.JPG</td>\n",
       "      <td>2</td>\n",
       "    </tr>\n",
       "    <tr>\n",
       "      <th>7373</th>\n",
       "      <td>272342_1818422.JPG</td>\n",
       "      <td>2</td>\n",
       "    </tr>\n",
       "    <tr>\n",
       "      <th>...</th>\n",
       "      <td>...</td>\n",
       "      <td>...</td>\n",
       "    </tr>\n",
       "    <tr>\n",
       "      <th>110268</th>\n",
       "      <td>1314554_13455839_Right Field 3.JPG</td>\n",
       "      <td>3</td>\n",
       "    </tr>\n",
       "    <tr>\n",
       "      <th>259178</th>\n",
       "      <td>1132380_12071324_Right Field 1.JPG</td>\n",
       "      <td>2</td>\n",
       "    </tr>\n",
       "    <tr>\n",
       "      <th>365838</th>\n",
       "      <td>1120879_11978828_Right Field 3.JPG</td>\n",
       "      <td>1</td>\n",
       "    </tr>\n",
       "    <tr>\n",
       "      <th>131932</th>\n",
       "      <td>1325187_13535058_Right Field 3.JPG</td>\n",
       "      <td>1</td>\n",
       "    </tr>\n",
       "    <tr>\n",
       "      <th>121958</th>\n",
       "      <td>1321278_13505627_Left Field 3.JPG</td>\n",
       "      <td>2</td>\n",
       "    </tr>\n",
       "  </tbody>\n",
       "</table>\n",
       "<p>531178 rows × 2 columns</p>\n",
       "</div>"
      ],
      "text/plain": [
       "                                     image  labels\n",
       "382082   1044826_11371355_Left Field 2.JPG       2\n",
       "3642                    269826_1799435.JPG       2\n",
       "248356  1229020_12818491_Right Field 1.JPG       2\n",
       "209126  1197011_12577877_Right Field 1.JPG       2\n",
       "7373                    272342_1818422.JPG       2\n",
       "...                                    ...     ...\n",
       "110268  1314554_13455839_Right Field 3.JPG       3\n",
       "259178  1132380_12071324_Right Field 1.JPG       2\n",
       "365838  1120879_11978828_Right Field 3.JPG       1\n",
       "131932  1325187_13535058_Right Field 3.JPG       1\n",
       "121958   1321278_13505627_Left Field 3.JPG       2\n",
       "\n",
       "[531178 rows x 2 columns]"
      ]
     },
     "execution_count": 78,
     "metadata": {},
     "output_type": "execute_result"
    }
   ],
   "source": [
    "df_train_val_quad = four_cases[~four_cases['image'].isin(test_df_4['image'])]\n",
    "df_train_val_quad"
   ]
  },
  {
   "cell_type": "code",
   "execution_count": 80,
   "metadata": {},
   "outputs": [
    {
     "data": {
      "text/plain": [
       "18154"
      ]
     },
     "execution_count": 80,
     "metadata": {},
     "output_type": "execute_result"
    }
   ],
   "source": [
    "16151+2003"
   ]
  },
  {
   "cell_type": "code",
   "execution_count": 81,
   "metadata": {},
   "outputs": [],
   "source": [
    "df_train_val_quad1 = df_train_val_quad[df_train_val_quad['labels'] == 0][:17997]\n",
    "df_train_val_quad2 = df_train_val_quad[df_train_val_quad['labels'] == 1][:17997]\n",
    "df_train_val_quad3 = df_train_val_quad[df_train_val_quad['labels'] == 2][:17997]\n",
    "df_train_val_quad4 = df_train_val_quad[df_train_val_quad['labels'] == 3][:18154]\n"
   ]
  },
  {
   "cell_type": "code",
   "execution_count": 82,
   "metadata": {},
   "outputs": [
    {
     "data": {
      "text/html": [
       "<div>\n",
       "<style scoped>\n",
       "    .dataframe tbody tr th:only-of-type {\n",
       "        vertical-align: middle;\n",
       "    }\n",
       "\n",
       "    .dataframe tbody tr th {\n",
       "        vertical-align: top;\n",
       "    }\n",
       "\n",
       "    .dataframe thead th {\n",
       "        text-align: right;\n",
       "    }\n",
       "</style>\n",
       "<table border=\"1\" class=\"dataframe\">\n",
       "  <thead>\n",
       "    <tr style=\"text-align: right;\">\n",
       "      <th></th>\n",
       "      <th>image</th>\n",
       "      <th>labels</th>\n",
       "    </tr>\n",
       "  </thead>\n",
       "  <tbody>\n",
       "    <tr>\n",
       "      <th>403528</th>\n",
       "      <td>937444_10530136_Right Field 3.JPG</td>\n",
       "      <td>0</td>\n",
       "    </tr>\n",
       "    <tr>\n",
       "      <th>296984</th>\n",
       "      <td>1173464_12395644_Right Field 2.JPG</td>\n",
       "      <td>0</td>\n",
       "    </tr>\n",
       "    <tr>\n",
       "      <th>331382</th>\n",
       "      <td>1085210_11697899_Right Field 2.JPG</td>\n",
       "      <td>0</td>\n",
       "    </tr>\n",
       "    <tr>\n",
       "      <th>524586</th>\n",
       "      <td>661221_8334635_Left Field 2.JPG</td>\n",
       "      <td>0</td>\n",
       "    </tr>\n",
       "    <tr>\n",
       "      <th>334298</th>\n",
       "      <td>1088252_11721694_Left Field 3.JPG</td>\n",
       "      <td>0</td>\n",
       "    </tr>\n",
       "    <tr>\n",
       "      <th>...</th>\n",
       "      <td>...</td>\n",
       "      <td>...</td>\n",
       "    </tr>\n",
       "    <tr>\n",
       "      <th>530510</th>\n",
       "      <td>673741_8430496_Left Field 1.JPG</td>\n",
       "      <td>3</td>\n",
       "    </tr>\n",
       "    <tr>\n",
       "      <th>4207</th>\n",
       "      <td>306839_2083105.JPG</td>\n",
       "      <td>3</td>\n",
       "    </tr>\n",
       "    <tr>\n",
       "      <th>346307</th>\n",
       "      <td>1100782_11819454_Left Field 3.JPG</td>\n",
       "      <td>3</td>\n",
       "    </tr>\n",
       "    <tr>\n",
       "      <th>320041</th>\n",
       "      <td>1072779_11597395_Right Field 3.JPG</td>\n",
       "      <td>3</td>\n",
       "    </tr>\n",
       "    <tr>\n",
       "      <th>517834</th>\n",
       "      <td>646811_8220540_Left Field 2.JPG</td>\n",
       "      <td>3</td>\n",
       "    </tr>\n",
       "  </tbody>\n",
       "</table>\n",
       "<p>72145 rows × 2 columns</p>\n",
       "</div>"
      ],
      "text/plain": [
       "                                     image  labels\n",
       "403528   937444_10530136_Right Field 3.JPG       0\n",
       "296984  1173464_12395644_Right Field 2.JPG       0\n",
       "331382  1085210_11697899_Right Field 2.JPG       0\n",
       "524586     661221_8334635_Left Field 2.JPG       0\n",
       "334298   1088252_11721694_Left Field 3.JPG       0\n",
       "...                                    ...     ...\n",
       "530510     673741_8430496_Left Field 1.JPG       3\n",
       "4207                    306839_2083105.JPG       3\n",
       "346307   1100782_11819454_Left Field 3.JPG       3\n",
       "320041  1072779_11597395_Right Field 3.JPG       3\n",
       "517834     646811_8220540_Left Field 2.JPG       3\n",
       "\n",
       "[72145 rows x 2 columns]"
      ]
     },
     "execution_count": 82,
     "metadata": {},
     "output_type": "execute_result"
    }
   ],
   "source": [
    "df_train_val_quad = pd.concat([df_train_val_quad1, df_train_val_quad2, df_train_val_quad3, df_train_val_quad4])\n",
    "df_train_val_quad"
   ]
  },
  {
   "cell_type": "code",
   "execution_count": 83,
   "metadata": {},
   "outputs": [
    {
     "data": {
      "text/plain": [
       "3    18154\n",
       "2    17997\n",
       "1    17997\n",
       "0    17997\n",
       "Name: labels, dtype: int64"
      ]
     },
     "execution_count": 83,
     "metadata": {},
     "output_type": "execute_result"
    }
   ],
   "source": [
    "df_train_val_quad['labels'].value_counts()"
   ]
  },
  {
   "cell_type": "code",
   "execution_count": 84,
   "metadata": {},
   "outputs": [],
   "source": [
    "df_train_val_quad.to_csv('/home/ubuntu/QA_code/QA_application/Processed_Input_files/Split_folders/trimmed/4_cases_train_val_trimmed.csv')\n",
    "test_df_4.to_csv('/home/ubuntu/QA_code/QA_application/Processed_Input_files/Split_folders/trimmed/4_cases_test_trimmed.csv')"
   ]
  },
  {
   "cell_type": "code",
   "execution_count": 85,
   "metadata": {},
   "outputs": [
    {
     "data": {
      "text/plain": [
       "3    2003\n",
       "2    2003\n",
       "1    2003\n",
       "0    2003\n",
       "Name: labels, dtype: int64"
      ]
     },
     "execution_count": 85,
     "metadata": {},
     "output_type": "execute_result"
    }
   ],
   "source": [
    "test_df_4['labels'].value_counts()"
   ]
  },
  {
   "cell_type": "code",
   "execution_count": 86,
   "metadata": {},
   "outputs": [
    {
     "data": {
      "text/html": [
       "<div>\n",
       "<style scoped>\n",
       "    .dataframe tbody tr th:only-of-type {\n",
       "        vertical-align: middle;\n",
       "    }\n",
       "\n",
       "    .dataframe tbody tr th {\n",
       "        vertical-align: top;\n",
       "    }\n",
       "\n",
       "    .dataframe thead th {\n",
       "        text-align: right;\n",
       "    }\n",
       "</style>\n",
       "<table border=\"1\" class=\"dataframe\">\n",
       "  <thead>\n",
       "    <tr style=\"text-align: right;\">\n",
       "      <th></th>\n",
       "      <th>image</th>\n",
       "      <th>labels</th>\n",
       "    </tr>\n",
       "  </thead>\n",
       "  <tbody>\n",
       "    <tr>\n",
       "      <th>128854</th>\n",
       "      <td>1323976_13525618_Right Field 1.JPG</td>\n",
       "      <td>2</td>\n",
       "    </tr>\n",
       "    <tr>\n",
       "      <th>89193</th>\n",
       "      <td>1296563_13318986_Right Field 1.JPG</td>\n",
       "      <td>2</td>\n",
       "    </tr>\n",
       "    <tr>\n",
       "      <th>267854</th>\n",
       "      <td>1142271_12149088_Left Field 3.JPG</td>\n",
       "      <td>2</td>\n",
       "    </tr>\n",
       "    <tr>\n",
       "      <th>436351</th>\n",
       "      <td>728244_8864403_Right Field 2.JPG</td>\n",
       "      <td>2</td>\n",
       "    </tr>\n",
       "    <tr>\n",
       "      <th>321090</th>\n",
       "      <td>1073825_11606554_Right Field 3.JPG</td>\n",
       "      <td>2</td>\n",
       "    </tr>\n",
       "    <tr>\n",
       "      <th>...</th>\n",
       "      <td>...</td>\n",
       "      <td>...</td>\n",
       "    </tr>\n",
       "    <tr>\n",
       "      <th>110268</th>\n",
       "      <td>1314554_13455839_Right Field 3.JPG</td>\n",
       "      <td>3</td>\n",
       "    </tr>\n",
       "    <tr>\n",
       "      <th>259178</th>\n",
       "      <td>1132380_12071324_Right Field 1.JPG</td>\n",
       "      <td>2</td>\n",
       "    </tr>\n",
       "    <tr>\n",
       "      <th>365838</th>\n",
       "      <td>1120879_11978828_Right Field 3.JPG</td>\n",
       "      <td>1</td>\n",
       "    </tr>\n",
       "    <tr>\n",
       "      <th>131932</th>\n",
       "      <td>1325187_13535058_Right Field 3.JPG</td>\n",
       "      <td>1</td>\n",
       "    </tr>\n",
       "    <tr>\n",
       "      <th>121958</th>\n",
       "      <td>1321278_13505627_Left Field 3.JPG</td>\n",
       "      <td>2</td>\n",
       "    </tr>\n",
       "  </tbody>\n",
       "</table>\n",
       "<p>533181 rows × 2 columns</p>\n",
       "</div>"
      ],
      "text/plain": [
       "                                     image  labels\n",
       "128854  1323976_13525618_Right Field 1.JPG       2\n",
       "89193   1296563_13318986_Right Field 1.JPG       2\n",
       "267854   1142271_12149088_Left Field 3.JPG       2\n",
       "436351    728244_8864403_Right Field 2.JPG       2\n",
       "321090  1073825_11606554_Right Field 3.JPG       2\n",
       "...                                    ...     ...\n",
       "110268  1314554_13455839_Right Field 3.JPG       3\n",
       "259178  1132380_12071324_Right Field 1.JPG       2\n",
       "365838  1120879_11978828_Right Field 3.JPG       1\n",
       "131932  1325187_13535058_Right Field 3.JPG       1\n",
       "121958   1321278_13505627_Left Field 3.JPG       2\n",
       "\n",
       "[533181 rows x 2 columns]"
      ]
     },
     "execution_count": 86,
     "metadata": {},
     "output_type": "execute_result"
    }
   ],
   "source": [
    "df_train_val_tri_temp = four_cases[~four_cases['image'].isin(test_df_3['image'])]\n",
    "df_train_val_tri_temp"
   ]
  },
  {
   "cell_type": "code",
   "execution_count": 90,
   "metadata": {},
   "outputs": [
    {
     "data": {
      "text/plain": [
       "18154"
      ]
     },
     "execution_count": 90,
     "metadata": {},
     "output_type": "execute_result"
    }
   ],
   "source": [
    "16151+2003"
   ]
  },
  {
   "cell_type": "code",
   "execution_count": 91,
   "metadata": {},
   "outputs": [],
   "source": [
    "df_train_val_tri_temp1 = df_train_val_tri_temp[df_train_val_tri_temp['labels'] == 0][:17997]\n",
    "df_train_val_tri_temp2 = df_train_val_tri_temp[df_train_val_tri_temp['labels'] == 1][:18999]\n",
    "df_train_val_tri_temp3 = df_train_val_tri_temp[df_train_val_tri_temp['labels'] == 2][:18998]\n",
    "df_train_val_tri_temp4 = df_train_val_tri_temp[df_train_val_tri_temp['labels'] == 3][:18154]\n"
   ]
  },
  {
   "cell_type": "code",
   "execution_count": 92,
   "metadata": {},
   "outputs": [
    {
     "data": {
      "text/html": [
       "<div>\n",
       "<style scoped>\n",
       "    .dataframe tbody tr th:only-of-type {\n",
       "        vertical-align: middle;\n",
       "    }\n",
       "\n",
       "    .dataframe tbody tr th {\n",
       "        vertical-align: top;\n",
       "    }\n",
       "\n",
       "    .dataframe thead th {\n",
       "        text-align: right;\n",
       "    }\n",
       "</style>\n",
       "<table border=\"1\" class=\"dataframe\">\n",
       "  <thead>\n",
       "    <tr style=\"text-align: right;\">\n",
       "      <th></th>\n",
       "      <th>image</th>\n",
       "      <th>labels</th>\n",
       "    </tr>\n",
       "  </thead>\n",
       "  <tbody>\n",
       "    <tr>\n",
       "      <th>403528</th>\n",
       "      <td>937444_10530136_Right Field 3.JPG</td>\n",
       "      <td>0</td>\n",
       "    </tr>\n",
       "    <tr>\n",
       "      <th>296984</th>\n",
       "      <td>1173464_12395644_Right Field 2.JPG</td>\n",
       "      <td>0</td>\n",
       "    </tr>\n",
       "    <tr>\n",
       "      <th>331382</th>\n",
       "      <td>1085210_11697899_Right Field 2.JPG</td>\n",
       "      <td>0</td>\n",
       "    </tr>\n",
       "    <tr>\n",
       "      <th>524586</th>\n",
       "      <td>661221_8334635_Left Field 2.JPG</td>\n",
       "      <td>0</td>\n",
       "    </tr>\n",
       "    <tr>\n",
       "      <th>334298</th>\n",
       "      <td>1088252_11721694_Left Field 3.JPG</td>\n",
       "      <td>0</td>\n",
       "    </tr>\n",
       "    <tr>\n",
       "      <th>...</th>\n",
       "      <td>...</td>\n",
       "      <td>...</td>\n",
       "    </tr>\n",
       "    <tr>\n",
       "      <th>530510</th>\n",
       "      <td>673741_8430496_Left Field 1.JPG</td>\n",
       "      <td>3</td>\n",
       "    </tr>\n",
       "    <tr>\n",
       "      <th>4207</th>\n",
       "      <td>306839_2083105.JPG</td>\n",
       "      <td>3</td>\n",
       "    </tr>\n",
       "    <tr>\n",
       "      <th>346307</th>\n",
       "      <td>1100782_11819454_Left Field 3.JPG</td>\n",
       "      <td>3</td>\n",
       "    </tr>\n",
       "    <tr>\n",
       "      <th>320041</th>\n",
       "      <td>1072779_11597395_Right Field 3.JPG</td>\n",
       "      <td>3</td>\n",
       "    </tr>\n",
       "    <tr>\n",
       "      <th>517834</th>\n",
       "      <td>646811_8220540_Left Field 2.JPG</td>\n",
       "      <td>3</td>\n",
       "    </tr>\n",
       "  </tbody>\n",
       "</table>\n",
       "<p>74148 rows × 2 columns</p>\n",
       "</div>"
      ],
      "text/plain": [
       "                                     image  labels\n",
       "403528   937444_10530136_Right Field 3.JPG       0\n",
       "296984  1173464_12395644_Right Field 2.JPG       0\n",
       "331382  1085210_11697899_Right Field 2.JPG       0\n",
       "524586     661221_8334635_Left Field 2.JPG       0\n",
       "334298   1088252_11721694_Left Field 3.JPG       0\n",
       "...                                    ...     ...\n",
       "530510     673741_8430496_Left Field 1.JPG       3\n",
       "4207                    306839_2083105.JPG       3\n",
       "346307   1100782_11819454_Left Field 3.JPG       3\n",
       "320041  1072779_11597395_Right Field 3.JPG       3\n",
       "517834     646811_8220540_Left Field 2.JPG       3\n",
       "\n",
       "[74148 rows x 2 columns]"
      ]
     },
     "execution_count": 92,
     "metadata": {},
     "output_type": "execute_result"
    }
   ],
   "source": [
    "df_train_val_tri = pd.concat([df_train_val_tri_temp1, df_train_val_tri_temp2, df_train_val_tri_temp3, df_train_val_tri_temp4])\n",
    "df_train_val_tri"
   ]
  },
  {
   "cell_type": "code",
   "execution_count": 93,
   "metadata": {},
   "outputs": [
    {
     "data": {
      "text/plain": [
       "1    18999\n",
       "2    18998\n",
       "3    18154\n",
       "0    17997\n",
       "Name: labels, dtype: int64"
      ]
     },
     "execution_count": 93,
     "metadata": {},
     "output_type": "execute_result"
    }
   ],
   "source": [
    "df_train_val_tri['labels'].value_counts()"
   ]
  },
  {
   "cell_type": "code",
   "execution_count": 94,
   "metadata": {},
   "outputs": [
    {
     "data": {
      "text/plain": [
       "1    37997\n",
       "3    18154\n",
       "0    17997\n",
       "Name: labels, dtype: int64"
      ]
     },
     "execution_count": 94,
     "metadata": {},
     "output_type": "execute_result"
    }
   ],
   "source": [
    "import numpy as np\n",
    "df_train_val_tri['labels'] = df_train_val_tri['labels'].replace([2],1)\n",
    "df_train_val_tri['labels'].value_counts()"
   ]
  },
  {
   "cell_type": "code",
   "execution_count": 95,
   "metadata": {},
   "outputs": [
    {
     "data": {
      "text/plain": [
       "1    37997\n",
       "2    18154\n",
       "0    17997\n",
       "Name: labels, dtype: int64"
      ]
     },
     "execution_count": 95,
     "metadata": {},
     "output_type": "execute_result"
    }
   ],
   "source": [
    "df_train_val_tri['labels'] = df_train_val_tri['labels'].replace([3],2)\n",
    "df_train_val_tri['labels'].value_counts()"
   ]
  },
  {
   "cell_type": "code",
   "execution_count": 103,
   "metadata": {},
   "outputs": [
    {
     "data": {
      "text/plain": [
       "3    2003\n",
       "0    2003\n",
       "1    1002\n",
       "2    1001\n",
       "Name: labels, dtype: int64"
      ]
     },
     "execution_count": 103,
     "metadata": {},
     "output_type": "execute_result"
    }
   ],
   "source": [
    "test_df_3['labels'].value_counts()"
   ]
  },
  {
   "cell_type": "code",
   "execution_count": 104,
   "metadata": {},
   "outputs": [
    {
     "data": {
      "text/plain": [
       "3    2003\n",
       "1    2003\n",
       "0    2003\n",
       "Name: labels, dtype: int64"
      ]
     },
     "execution_count": 104,
     "metadata": {},
     "output_type": "execute_result"
    }
   ],
   "source": [
    "test_df_3['labels'] = test_df_3['labels'].replace([2],1)\n",
    "test_df_3['labels'].value_counts()"
   ]
  },
  {
   "cell_type": "code",
   "execution_count": 105,
   "metadata": {},
   "outputs": [
    {
     "data": {
      "text/plain": [
       "2    2003\n",
       "1    2003\n",
       "0    2003\n",
       "Name: labels, dtype: int64"
      ]
     },
     "execution_count": 105,
     "metadata": {},
     "output_type": "execute_result"
    }
   ],
   "source": [
    "test_df_3['labels'] = test_df_3['labels'].replace([3],2)\n",
    "test_df_3['labels'].value_counts()"
   ]
  },
  {
   "cell_type": "code",
   "execution_count": 106,
   "metadata": {},
   "outputs": [],
   "source": [
    "df_train_val_tri.to_csv('/home/ubuntu/QA_code/QA_application/Processed_Input_files/Split_folders/trimmed/3_cases_train_val_trimmed.csv')\n",
    "test_df_3.to_csv('/home/ubuntu/QA_code/QA_application/Processed_Input_files/Split_folders/trimmed/3_cases_test_trimmed.csv')"
   ]
  },
  {
   "cell_type": "markdown",
   "metadata": {},
   "source": [
    "## Binary"
   ]
  },
  {
   "cell_type": "code",
   "execution_count": 114,
   "metadata": {},
   "outputs": [
    {
     "data": {
      "text/html": [
       "<div>\n",
       "<style scoped>\n",
       "    .dataframe tbody tr th:only-of-type {\n",
       "        vertical-align: middle;\n",
       "    }\n",
       "\n",
       "    .dataframe tbody tr th {\n",
       "        vertical-align: top;\n",
       "    }\n",
       "\n",
       "    .dataframe thead th {\n",
       "        text-align: right;\n",
       "    }\n",
       "</style>\n",
       "<table border=\"1\" class=\"dataframe\">\n",
       "  <thead>\n",
       "    <tr style=\"text-align: right;\">\n",
       "      <th></th>\n",
       "      <th>image</th>\n",
       "      <th>labels</th>\n",
       "    </tr>\n",
       "  </thead>\n",
       "  <tbody>\n",
       "    <tr>\n",
       "      <th>106146</th>\n",
       "      <td>1311089_13429664_Left Field 3.JPG</td>\n",
       "      <td>2</td>\n",
       "    </tr>\n",
       "    <tr>\n",
       "      <th>490671</th>\n",
       "      <td>585620_7736425_Left Field 2.JPG</td>\n",
       "      <td>2</td>\n",
       "    </tr>\n",
       "    <tr>\n",
       "      <th>27486</th>\n",
       "      <td>1330102_13569710_Left Field 1.JPG</td>\n",
       "      <td>2</td>\n",
       "    </tr>\n",
       "    <tr>\n",
       "      <th>339262</th>\n",
       "      <td>1093466_11761746_Left Field 3.JPG</td>\n",
       "      <td>2</td>\n",
       "    </tr>\n",
       "    <tr>\n",
       "      <th>464611</th>\n",
       "      <td>814777_9543265_Right Field 3.JPG</td>\n",
       "      <td>2</td>\n",
       "    </tr>\n",
       "    <tr>\n",
       "      <th>...</th>\n",
       "      <td>...</td>\n",
       "      <td>...</td>\n",
       "    </tr>\n",
       "    <tr>\n",
       "      <th>110268</th>\n",
       "      <td>1314554_13455839_Right Field 3.JPG</td>\n",
       "      <td>3</td>\n",
       "    </tr>\n",
       "    <tr>\n",
       "      <th>259178</th>\n",
       "      <td>1132380_12071324_Right Field 1.JPG</td>\n",
       "      <td>2</td>\n",
       "    </tr>\n",
       "    <tr>\n",
       "      <th>365838</th>\n",
       "      <td>1120879_11978828_Right Field 3.JPG</td>\n",
       "      <td>1</td>\n",
       "    </tr>\n",
       "    <tr>\n",
       "      <th>131932</th>\n",
       "      <td>1325187_13535058_Right Field 3.JPG</td>\n",
       "      <td>1</td>\n",
       "    </tr>\n",
       "    <tr>\n",
       "      <th>121958</th>\n",
       "      <td>1321278_13505627_Left Field 3.JPG</td>\n",
       "      <td>2</td>\n",
       "    </tr>\n",
       "  </tbody>\n",
       "</table>\n",
       "<p>535184 rows × 2 columns</p>\n",
       "</div>"
      ],
      "text/plain": [
       "                                     image  labels\n",
       "106146   1311089_13429664_Left Field 3.JPG       2\n",
       "490671     585620_7736425_Left Field 2.JPG       2\n",
       "27486    1330102_13569710_Left Field 1.JPG       2\n",
       "339262   1093466_11761746_Left Field 3.JPG       2\n",
       "464611    814777_9543265_Right Field 3.JPG       2\n",
       "...                                    ...     ...\n",
       "110268  1314554_13455839_Right Field 3.JPG       3\n",
       "259178  1132380_12071324_Right Field 1.JPG       2\n",
       "365838  1120879_11978828_Right Field 3.JPG       1\n",
       "131932  1325187_13535058_Right Field 3.JPG       1\n",
       "121958   1321278_13505627_Left Field 3.JPG       2\n",
       "\n",
       "[535184 rows x 2 columns]"
      ]
     },
     "execution_count": 114,
     "metadata": {},
     "output_type": "execute_result"
    }
   ],
   "source": [
    "df_train_val_duo_temp = four_cases[~four_cases['image'].isin(test_df_2['image'])]\n",
    "df_train_val_duo_temp"
   ]
  },
  {
   "cell_type": "code",
   "execution_count": 117,
   "metadata": {},
   "outputs": [
    {
     "data": {
      "text/plain": [
       "76151"
      ]
     },
     "execution_count": 117,
     "metadata": {},
     "output_type": "execute_result"
    }
   ],
   "source": [
    "72145+4006"
   ]
  },
  {
   "cell_type": "code",
   "execution_count": 115,
   "metadata": {},
   "outputs": [],
   "source": [
    "df_train_val_duo_temp1 = df_train_val_duo_temp[df_train_val_duo_temp['labels'] == 0][:19333]\n",
    "df_train_val_duo_temp2 = df_train_val_duo_temp[df_train_val_duo_temp['labels'] == 1][:19332]\n",
    "df_train_val_duo_temp3 = df_train_val_duo_temp[df_train_val_duo_temp['labels'] == 2][:19332]\n",
    "df_train_val_duo_temp4 = df_train_val_duo_temp[df_train_val_duo_temp['labels'] == 3][:18154]\n"
   ]
  },
  {
   "cell_type": "code",
   "execution_count": 121,
   "metadata": {},
   "outputs": [
    {
     "data": {
      "text/html": [
       "<div>\n",
       "<style scoped>\n",
       "    .dataframe tbody tr th:only-of-type {\n",
       "        vertical-align: middle;\n",
       "    }\n",
       "\n",
       "    .dataframe tbody tr th {\n",
       "        vertical-align: top;\n",
       "    }\n",
       "\n",
       "    .dataframe thead th {\n",
       "        text-align: right;\n",
       "    }\n",
       "</style>\n",
       "<table border=\"1\" class=\"dataframe\">\n",
       "  <thead>\n",
       "    <tr style=\"text-align: right;\">\n",
       "      <th></th>\n",
       "      <th>image</th>\n",
       "      <th>labels</th>\n",
       "    </tr>\n",
       "  </thead>\n",
       "  <tbody>\n",
       "    <tr>\n",
       "      <th>478868</th>\n",
       "      <td>864986_9934525_Left Field 2.JPG</td>\n",
       "      <td>0</td>\n",
       "    </tr>\n",
       "    <tr>\n",
       "      <th>534332</th>\n",
       "      <td>681159_8489419_Left Field 1.JPG</td>\n",
       "      <td>0</td>\n",
       "    </tr>\n",
       "    <tr>\n",
       "      <th>439184</th>\n",
       "      <td>736822_8931425_Left Field 2.JPG</td>\n",
       "      <td>0</td>\n",
       "    </tr>\n",
       "    <tr>\n",
       "      <th>77037</th>\n",
       "      <td>1280806_13215766_Left Field 1.JPG</td>\n",
       "      <td>0</td>\n",
       "    </tr>\n",
       "    <tr>\n",
       "      <th>498114</th>\n",
       "      <td>602094_7866196_Left Field 3.JPG</td>\n",
       "      <td>0</td>\n",
       "    </tr>\n",
       "    <tr>\n",
       "      <th>...</th>\n",
       "      <td>...</td>\n",
       "      <td>...</td>\n",
       "    </tr>\n",
       "    <tr>\n",
       "      <th>530510</th>\n",
       "      <td>673741_8430496_Left Field 1.JPG</td>\n",
       "      <td>3</td>\n",
       "    </tr>\n",
       "    <tr>\n",
       "      <th>4207</th>\n",
       "      <td>306839_2083105.JPG</td>\n",
       "      <td>3</td>\n",
       "    </tr>\n",
       "    <tr>\n",
       "      <th>346307</th>\n",
       "      <td>1100782_11819454_Left Field 3.JPG</td>\n",
       "      <td>3</td>\n",
       "    </tr>\n",
       "    <tr>\n",
       "      <th>320041</th>\n",
       "      <td>1072779_11597395_Right Field 3.JPG</td>\n",
       "      <td>3</td>\n",
       "    </tr>\n",
       "    <tr>\n",
       "      <th>517834</th>\n",
       "      <td>646811_8220540_Left Field 2.JPG</td>\n",
       "      <td>3</td>\n",
       "    </tr>\n",
       "  </tbody>\n",
       "</table>\n",
       "<p>76151 rows × 2 columns</p>\n",
       "</div>"
      ],
      "text/plain": [
       "                                     image  labels\n",
       "478868     864986_9934525_Left Field 2.JPG       0\n",
       "534332     681159_8489419_Left Field 1.JPG       0\n",
       "439184     736822_8931425_Left Field 2.JPG       0\n",
       "77037    1280806_13215766_Left Field 1.JPG       0\n",
       "498114     602094_7866196_Left Field 3.JPG       0\n",
       "...                                    ...     ...\n",
       "530510     673741_8430496_Left Field 1.JPG       3\n",
       "4207                    306839_2083105.JPG       3\n",
       "346307   1100782_11819454_Left Field 3.JPG       3\n",
       "320041  1072779_11597395_Right Field 3.JPG       3\n",
       "517834     646811_8220540_Left Field 2.JPG       3\n",
       "\n",
       "[76151 rows x 2 columns]"
      ]
     },
     "execution_count": 121,
     "metadata": {},
     "output_type": "execute_result"
    }
   ],
   "source": [
    "df_train_val_duo = pd.concat([df_train_val_duo_temp1, df_train_val_duo_temp2, df_train_val_duo_temp3, df_train_val_duo_temp4])\n",
    "df_train_val_duo"
   ]
  },
  {
   "cell_type": "code",
   "execution_count": 122,
   "metadata": {},
   "outputs": [
    {
     "data": {
      "text/plain": [
       "0    19333\n",
       "2    19332\n",
       "1    19332\n",
       "3    18154\n",
       "Name: labels, dtype: int64"
      ]
     },
     "execution_count": 122,
     "metadata": {},
     "output_type": "execute_result"
    }
   ],
   "source": [
    "df_train_val_duo['labels'].value_counts()"
   ]
  },
  {
   "cell_type": "code",
   "execution_count": 123,
   "metadata": {},
   "outputs": [
    {
     "data": {
      "text/plain": [
       "1    38664\n",
       "0    19333\n",
       "3    18154\n",
       "Name: labels, dtype: int64"
      ]
     },
     "execution_count": 123,
     "metadata": {},
     "output_type": "execute_result"
    }
   ],
   "source": [
    "df_train_val_duo['labels'] = df_train_val_duo['labels'].replace([2],1)\n",
    "df_train_val_duo['labels'].value_counts()\n"
   ]
  },
  {
   "cell_type": "code",
   "execution_count": 124,
   "metadata": {},
   "outputs": [
    {
     "data": {
      "text/plain": [
       "0    57997\n",
       "3    18154\n",
       "Name: labels, dtype: int64"
      ]
     },
     "execution_count": 124,
     "metadata": {},
     "output_type": "execute_result"
    }
   ],
   "source": [
    "df_train_val_duo['labels'] = df_train_val_duo['labels'].replace([1],0)\n",
    "df_train_val_duo['labels'].value_counts()"
   ]
  },
  {
   "cell_type": "code",
   "execution_count": 125,
   "metadata": {},
   "outputs": [
    {
     "data": {
      "text/plain": [
       "0    57997\n",
       "1    18154\n",
       "Name: labels, dtype: int64"
      ]
     },
     "execution_count": 125,
     "metadata": {},
     "output_type": "execute_result"
    }
   ],
   "source": [
    "df_train_val_duo['labels'] = df_train_val_duo['labels'].replace([3],1)\n",
    "df_train_val_duo['labels'].value_counts()"
   ]
  },
  {
   "cell_type": "code",
   "execution_count": 127,
   "metadata": {},
   "outputs": [
    {
     "data": {
      "text/plain": [
       "3    2003\n",
       "1     668\n",
       "0     668\n",
       "2     667\n",
       "Name: labels, dtype: int64"
      ]
     },
     "execution_count": 127,
     "metadata": {},
     "output_type": "execute_result"
    }
   ],
   "source": [
    "test_df_2['labels'].value_counts()"
   ]
  },
  {
   "cell_type": "code",
   "execution_count": 128,
   "metadata": {},
   "outputs": [],
   "source": [
    "test_df_2['labels'] = test_df_2['labels'].replace([2],1)\n",
    "test_df_2['labels'] = test_df_2['labels'].replace([1],0)\n",
    "test_df_2['labels'] = test_df_2['labels'].replace([3],1)\n",
    "\n"
   ]
  },
  {
   "cell_type": "code",
   "execution_count": 129,
   "metadata": {},
   "outputs": [
    {
     "data": {
      "text/plain": [
       "1    2003\n",
       "0    2003\n",
       "Name: labels, dtype: int64"
      ]
     },
     "execution_count": 129,
     "metadata": {},
     "output_type": "execute_result"
    }
   ],
   "source": [
    "test_df_2['labels'].value_counts()"
   ]
  },
  {
   "cell_type": "code",
   "execution_count": 130,
   "metadata": {},
   "outputs": [],
   "source": [
    "df_train_val_duo.to_csv('/home/ubuntu/QA_code/QA_application/Processed_Input_files/Split_folders/trimmed/2_cases_train_val_trimmed.csv')\n",
    "test_df_2.to_csv('/home/ubuntu/QA_code/QA_application/Processed_Input_files/Split_folders/trimmed/2_cases_test_trimmed.csv')"
   ]
  },
  {
   "cell_type": "code",
   "execution_count": 132,
   "metadata": {},
   "outputs": [
    {
     "data": {
      "text/html": [
       "<div>\n",
       "<style scoped>\n",
       "    .dataframe tbody tr th:only-of-type {\n",
       "        vertical-align: middle;\n",
       "    }\n",
       "\n",
       "    .dataframe tbody tr th {\n",
       "        vertical-align: top;\n",
       "    }\n",
       "\n",
       "    .dataframe thead th {\n",
       "        text-align: right;\n",
       "    }\n",
       "</style>\n",
       "<table border=\"1\" class=\"dataframe\">\n",
       "  <thead>\n",
       "    <tr style=\"text-align: right;\">\n",
       "      <th></th>\n",
       "      <th>image</th>\n",
       "      <th>labels</th>\n",
       "    </tr>\n",
       "  </thead>\n",
       "  <tbody>\n",
       "    <tr>\n",
       "      <th>0</th>\n",
       "      <td>937444_10530136_Right Field 3.JPG</td>\n",
       "      <td>0</td>\n",
       "    </tr>\n",
       "    <tr>\n",
       "      <th>1</th>\n",
       "      <td>1173464_12395644_Right Field 2.JPG</td>\n",
       "      <td>0</td>\n",
       "    </tr>\n",
       "    <tr>\n",
       "      <th>2</th>\n",
       "      <td>1085210_11697899_Right Field 2.JPG</td>\n",
       "      <td>0</td>\n",
       "    </tr>\n",
       "    <tr>\n",
       "      <th>3</th>\n",
       "      <td>661221_8334635_Left Field 2.JPG</td>\n",
       "      <td>0</td>\n",
       "    </tr>\n",
       "    <tr>\n",
       "      <th>4</th>\n",
       "      <td>1088252_11721694_Left Field 3.JPG</td>\n",
       "      <td>0</td>\n",
       "    </tr>\n",
       "    <tr>\n",
       "      <th>...</th>\n",
       "      <td>...</td>\n",
       "      <td>...</td>\n",
       "    </tr>\n",
       "    <tr>\n",
       "      <th>74143</th>\n",
       "      <td>673741_8430496_Left Field 1.JPG</td>\n",
       "      <td>2</td>\n",
       "    </tr>\n",
       "    <tr>\n",
       "      <th>74144</th>\n",
       "      <td>306839_2083105.JPG</td>\n",
       "      <td>2</td>\n",
       "    </tr>\n",
       "    <tr>\n",
       "      <th>74145</th>\n",
       "      <td>1100782_11819454_Left Field 3.JPG</td>\n",
       "      <td>2</td>\n",
       "    </tr>\n",
       "    <tr>\n",
       "      <th>74146</th>\n",
       "      <td>1072779_11597395_Right Field 3.JPG</td>\n",
       "      <td>2</td>\n",
       "    </tr>\n",
       "    <tr>\n",
       "      <th>74147</th>\n",
       "      <td>646811_8220540_Left Field 2.JPG</td>\n",
       "      <td>2</td>\n",
       "    </tr>\n",
       "  </tbody>\n",
       "</table>\n",
       "<p>74148 rows × 2 columns</p>\n",
       "</div>"
      ],
      "text/plain": [
       "                                    image  labels\n",
       "0       937444_10530136_Right Field 3.JPG       0\n",
       "1      1173464_12395644_Right Field 2.JPG       0\n",
       "2      1085210_11697899_Right Field 2.JPG       0\n",
       "3         661221_8334635_Left Field 2.JPG       0\n",
       "4       1088252_11721694_Left Field 3.JPG       0\n",
       "...                                   ...     ...\n",
       "74143     673741_8430496_Left Field 1.JPG       2\n",
       "74144                  306839_2083105.JPG       2\n",
       "74145   1100782_11819454_Left Field 3.JPG       2\n",
       "74146  1072779_11597395_Right Field 3.JPG       2\n",
       "74147     646811_8220540_Left Field 2.JPG       2\n",
       "\n",
       "[74148 rows x 2 columns]"
      ]
     },
     "execution_count": 132,
     "metadata": {},
     "output_type": "execute_result"
    }
   ],
   "source": [
    "test = pd.read_csv('/home/ubuntu/QA_code/QA_application/Processed_Input_files/Split_folders/trimmed/3_cases_train_val_trimmed.csv').iloc[:,1:]\n",
    "test"
   ]
  },
  {
   "cell_type": "code",
   "execution_count": 133,
   "metadata": {},
   "outputs": [
    {
     "data": {
      "text/plain": [
       "1    37997\n",
       "2    18154\n",
       "0    17997\n",
       "Name: labels, dtype: int64"
      ]
     },
     "execution_count": 133,
     "metadata": {},
     "output_type": "execute_result"
    }
   ],
   "source": [
    "test['labels'].value_counts()"
   ]
  },
  {
   "cell_type": "code",
   "execution_count": 136,
   "metadata": {},
   "outputs": [
    {
     "data": {
      "text/plain": [
       "37997"
      ]
     },
     "execution_count": 136,
     "metadata": {},
     "output_type": "execute_result"
    }
   ],
   "source": [
    "35994+2003"
   ]
  },
  {
   "cell_type": "code",
   "execution_count": 1,
   "metadata": {},
   "outputs": [],
   "source": [
    "## Binary_Porting"
   ]
  },
  {
   "cell_type": "code",
   "execution_count": 22,
   "metadata": {},
   "outputs": [
    {
     "data": {
      "text/html": [
       "<div>\n",
       "<style scoped>\n",
       "    .dataframe tbody tr th:only-of-type {\n",
       "        vertical-align: middle;\n",
       "    }\n",
       "\n",
       "    .dataframe tbody tr th {\n",
       "        vertical-align: top;\n",
       "    }\n",
       "\n",
       "    .dataframe thead th {\n",
       "        text-align: right;\n",
       "    }\n",
       "</style>\n",
       "<table border=\"1\" class=\"dataframe\">\n",
       "  <thead>\n",
       "    <tr style=\"text-align: right;\">\n",
       "      <th></th>\n",
       "      <th>image</th>\n",
       "      <th>labels</th>\n",
       "    </tr>\n",
       "  </thead>\n",
       "  <tbody>\n",
       "    <tr>\n",
       "      <th>0</th>\n",
       "      <td>937444_10530136_Right Field 3.JPG</td>\n",
       "      <td>0</td>\n",
       "    </tr>\n",
       "    <tr>\n",
       "      <th>1</th>\n",
       "      <td>1173464_12395644_Right Field 2.JPG</td>\n",
       "      <td>0</td>\n",
       "    </tr>\n",
       "    <tr>\n",
       "      <th>2</th>\n",
       "      <td>1085210_11697899_Right Field 2.JPG</td>\n",
       "      <td>0</td>\n",
       "    </tr>\n",
       "    <tr>\n",
       "      <th>3</th>\n",
       "      <td>661221_8334635_Left Field 2.JPG</td>\n",
       "      <td>0</td>\n",
       "    </tr>\n",
       "    <tr>\n",
       "      <th>4</th>\n",
       "      <td>1088252_11721694_Left Field 3.JPG</td>\n",
       "      <td>0</td>\n",
       "    </tr>\n",
       "    <tr>\n",
       "      <th>...</th>\n",
       "      <td>...</td>\n",
       "      <td>...</td>\n",
       "    </tr>\n",
       "    <tr>\n",
       "      <th>74143</th>\n",
       "      <td>673741_8430496_Left Field 1.JPG</td>\n",
       "      <td>2</td>\n",
       "    </tr>\n",
       "    <tr>\n",
       "      <th>74144</th>\n",
       "      <td>306839_2083105.JPG</td>\n",
       "      <td>2</td>\n",
       "    </tr>\n",
       "    <tr>\n",
       "      <th>74145</th>\n",
       "      <td>1100782_11819454_Left Field 3.JPG</td>\n",
       "      <td>2</td>\n",
       "    </tr>\n",
       "    <tr>\n",
       "      <th>74146</th>\n",
       "      <td>1072779_11597395_Right Field 3.JPG</td>\n",
       "      <td>2</td>\n",
       "    </tr>\n",
       "    <tr>\n",
       "      <th>74147</th>\n",
       "      <td>646811_8220540_Left Field 2.JPG</td>\n",
       "      <td>2</td>\n",
       "    </tr>\n",
       "  </tbody>\n",
       "</table>\n",
       "<p>74148 rows × 2 columns</p>\n",
       "</div>"
      ],
      "text/plain": [
       "                                    image  labels\n",
       "0       937444_10530136_Right Field 3.JPG       0\n",
       "1      1173464_12395644_Right Field 2.JPG       0\n",
       "2      1085210_11697899_Right Field 2.JPG       0\n",
       "3         661221_8334635_Left Field 2.JPG       0\n",
       "4       1088252_11721694_Left Field 3.JPG       0\n",
       "...                                   ...     ...\n",
       "74143     673741_8430496_Left Field 1.JPG       2\n",
       "74144                  306839_2083105.JPG       2\n",
       "74145   1100782_11819454_Left Field 3.JPG       2\n",
       "74146  1072779_11597395_Right Field 3.JPG       2\n",
       "74147     646811_8220540_Left Field 2.JPG       2\n",
       "\n",
       "[74148 rows x 2 columns]"
      ]
     },
     "execution_count": 22,
     "metadata": {},
     "output_type": "execute_result"
    }
   ],
   "source": [
    "import pandas as pd\n",
    "import os\n",
    "binary_file = pd.read_csv('/home/ubuntu/QA_code/QA_application/Processed_Input_files/Split_folders/trimmed/3_cases_train_val_trimmed.csv').iloc[:,1:]\n",
    "binary_file"
   ]
  },
  {
   "cell_type": "code",
   "execution_count": 23,
   "metadata": {},
   "outputs": [
    {
     "data": {
      "text/plain": [
       "['937444_10530136_Right Field 3.JPG',\n",
       " '1173464_12395644_Right Field 2.JPG',\n",
       " '1085210_11697899_Right Field 2.JPG',\n",
       " '661221_8334635_Left Field 2.JPG']"
      ]
     },
     "execution_count": 23,
     "metadata": {},
     "output_type": "execute_result"
    }
   ],
   "source": [
    "img_names = binary_file['image'].tolist()\n",
    "img_names[:4]"
   ]
  },
  {
   "cell_type": "code",
   "execution_count": 25,
   "metadata": {},
   "outputs": [],
   "source": [
    "import shutil\n",
    "source_file = '/home/ubuntu/EyePacs_Lenke_Dataset_Division/Test'\n",
    "destination_file = '/home/ubuntu/Subset_EyePacs_Lenke_Dataset_Tri/Train'\n",
    "for image in img_names:\n",
    "    if (os.path.isfile(os.path.join(source_file,image))):\n",
    "        shutil.copy(os.path.join(source_file,image), destination_file)\n",
    "\n"
   ]
  },
  {
   "cell_type": "code",
   "execution_count": null,
   "metadata": {},
   "outputs": [],
   "source": []
  }
 ],
 "metadata": {
  "kernelspec": {
   "display_name": "Python 3.6.13 ('amazonei_mxnet_p36')",
   "language": "python",
   "name": "python3"
  },
  "language_info": {
   "codemirror_mode": {
    "name": "ipython",
    "version": 3
   },
   "file_extension": ".py",
   "mimetype": "text/x-python",
   "name": "python",
   "nbconvert_exporter": "python",
   "pygments_lexer": "ipython3",
   "version": "3.6.13"
  },
  "orig_nbformat": 4,
  "vscode": {
   "interpreter": {
    "hash": "d5377fdf0e29d50ddd6d9c18c6519a414ead5cf875f7813c221ce86d5ccb1d6c"
   }
  }
 },
 "nbformat": 4,
 "nbformat_minor": 2
}
